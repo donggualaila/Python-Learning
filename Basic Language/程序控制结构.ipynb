{
 "cells": [
  {
   "cell_type": "markdown",
   "id": "851378de",
   "metadata": {},
   "source": [
    "**条件测试**  \n",
    "1. 比较运算  \n"
   ]
  },
  {
   "cell_type": "code",
   "execution_count": 2,
   "id": "e98b8f38",
   "metadata": {},
   "outputs": [
    {
     "name": "stdout",
     "output_type": "stream",
     "text": [
      "False\n",
      "True\n",
      "False\n",
      "False\n",
      "True\n",
      "True\n"
     ]
    }
   ],
   "source": [
    "a = 8\n",
    "b = 10\n",
    "print(a > b)\n",
    "print(a < b)\n",
    "print(a == b)\n",
    "print(a >= b)\n",
    "print(a <= b)\n",
    "print(a != b)"
   ]
  },
  {
   "cell_type": "markdown",
   "id": "2c9c72a1",
   "metadata": {},
   "source": [
    "- 非空判断（一种特殊的条件判断）"
   ]
  },
  {
   "cell_type": "code",
   "execution_count": null,
   "id": "9afd1a6f",
   "metadata": {},
   "outputs": [
    {
     "name": "stdout",
     "output_type": "stream",
     "text": [
      "Not blank\n"
     ]
    }
   ],
   "source": [
    "ls = []\n",
    "if ls:\n",
    "    print(\"Not blank\")\n",
    "else:\n",
    "    print('Blank')"
   ]
  },
  {
   "cell_type": "markdown",
   "id": "6ed80443",
   "metadata": {},
   "source": [
    "2. 逻辑运算\n",
    "- 与、或、非"
   ]
  },
  {
   "cell_type": "code",
   "execution_count": 7,
   "id": "c9fc6b57",
   "metadata": {},
   "outputs": [
    {
     "name": "stdout",
     "output_type": "stream",
     "text": [
      "False\n",
      "True\n",
      "False\n"
     ]
    }
   ],
   "source": [
    "a = 10\n",
    "b = 8\n",
    "c = 12\n",
    "print((a > b) and (b >c))\n",
    "print((a > b) or (b >c))\n",
    "print(not (a > b))"
   ]
  },
  {
   "cell_type": "markdown",
   "id": "e034f87e",
   "metadata": {},
   "source": [
    "- 逻辑运算的优先级  \n",
    " 非 > 与 > 或"
   ]
  },
  {
   "cell_type": "code",
   "execution_count": 8,
   "id": "79ef76d3",
   "metadata": {},
   "outputs": [
    {
     "name": "stdout",
     "output_type": "stream",
     "text": [
      "True\n",
      "False\n"
     ]
    }
   ],
   "source": [
    "print(True or True and False)\n",
    "print((True or True) and False)"
   ]
  },
  {
   "cell_type": "markdown",
   "id": "9857d821",
   "metadata": {},
   "source": [
    "3. 存在运算\n",
    "- in：元素 in 列表/字符串"
   ]
  },
  {
   "cell_type": "code",
   "execution_count": 9,
   "id": "d1619897",
   "metadata": {},
   "outputs": [
    {
     "name": "stdout",
     "output_type": "stream",
     "text": [
      "True\n",
      "False\n"
     ]
    }
   ],
   "source": [
    "cars = ['BYD','BMW','AUDI','TOYOTA']\n",
    "print('BMW' in cars)\n",
    "print('BENZ' in cars)"
   ]
  },
  {
   "cell_type": "markdown",
   "id": "85520b6e",
   "metadata": {},
   "source": [
    "- not in：元素 not in 列表/字符串"
   ]
  },
  {
   "cell_type": "code",
   "execution_count": 10,
   "id": "54394fc3",
   "metadata": {},
   "outputs": [
    {
     "name": "stdout",
     "output_type": "stream",
     "text": [
      "False\n",
      "True\n"
     ]
    }
   ],
   "source": [
    "cars = ['BYD','BMW','AUDI','TOYOTA']\n",
    "print('BMW' not in cars)\n",
    "print('BENZ' not in cars)"
   ]
  },
  {
   "cell_type": "markdown",
   "id": "56af459b",
   "metadata": {},
   "source": [
    "分支结构 -- if语句\n",
    "1. 单分支  \n",
    " **格式**  \n",
    " >if 条件:    \n",
    " >>缩进代码块"
   ]
  },
  {
   "cell_type": "code",
   "execution_count": 1,
   "id": "f9a0ec47",
   "metadata": {},
   "outputs": [
    {
     "name": "stdout",
     "output_type": "stream",
     "text": [
      "Adult\n"
     ]
    }
   ],
   "source": [
    "age = 20\n",
    "if age > 18:\n",
    "    print(\"Adult\")"
   ]
  },
  {
   "cell_type": "markdown",
   "id": "c467307d",
   "metadata": {},
   "source": [
    "2. 二分支  \n",
    "**格式**  \n",
    "<pre>\n",
    "if 条件:   \n",
    "    缩进代码块\n",
    "else:  \n",
    "    缩进代码块\n",
    "</pre>\n",
    "\n"
   ]
  },
  {
   "cell_type": "code",
   "execution_count": 2,
   "id": "cf710f03",
   "metadata": {},
   "outputs": [
    {
     "name": "stdout",
     "output_type": "stream",
     "text": [
      "Adult\n"
     ]
    }
   ],
   "source": [
    "age = 20\n",
    "if age > 18:\n",
    "    print(\"Adult\")\n",
    "else:\n",
    "    print(\"Child\")"
   ]
  },
  {
   "cell_type": "markdown",
   "id": "7ba351e3",
   "metadata": {},
   "source": [
    "3. 多分支  \n",
    "**格式**  \n",
    "<pre>\n",
    "if 条件:   \n",
    "    缩进代码块\n",
    "elif:  \n",
    "    缩进代码块\n",
    "elif:\n",
    "    缩进代码块\n",
    "...\n",
    "else:\n",
    "    缩进代码块\n",
    "</pre>\n",
    "**不论有多少个分支，最后只执行一个分支**\n"
   ]
  },
  {
   "cell_type": "code",
   "execution_count": 3,
   "id": "cc1c7762",
   "metadata": {},
   "outputs": [
    {
     "name": "stdout",
     "output_type": "stream",
     "text": [
      "Teenager\n"
     ]
    }
   ],
   "source": [
    "age = 18\n",
    "if age <= 8:\n",
    "    print('Child')\n",
    "elif age <= 18:\n",
    "    print(\"Teenager\")\n",
    "else:\n",
    "    print(\"Adult\")"
   ]
  },
  {
   "cell_type": "markdown",
   "id": "ff3348ec",
   "metadata": {},
   "source": [
    "4. 嵌套语句  \n",
    "例题：年满18周岁，在非公共场合可以抽烟，判断某种情况下是否可以抽烟"
   ]
  },
  {
   "cell_type": "code",
   "execution_count": 4,
   "id": "c944d456",
   "metadata": {},
   "outputs": [
    {
     "name": "stdout",
     "output_type": "stream",
     "text": [
      "可以抽烟\n"
     ]
    }
   ],
   "source": [
    "age = int(input('请输入年龄:'))\n",
    "if age > 18:\n",
    "    place = bool(int(input(\"公共场合输入1，非公共场合输入0\")))\n",
    "    if place:\n",
    "        print('禁止抽烟')\n",
    "    else:\n",
    "        print('可以抽烟')\n",
    "else:\n",
    "    print('禁止抽烟')"
   ]
  },
  {
   "cell_type": "markdown",
   "id": "b6ca8859",
   "metadata": {},
   "source": [
    "**遍历循环--for循环**  \n",
    "主要形式：\n",
    "<pre>\n",
    "for 元素 in 可迭代对象：  \n",
    "    执行语句\n",
    "<pre\\>"
   ]
  },
  {
   "cell_type": "markdown",
   "id": "734a6a18",
   "metadata": {},
   "source": [
    "执行过程：  \n",
    "从可迭代对象中，依次取出每一个元素，并进行相应的操作"
   ]
  },
  {
   "cell_type": "markdown",
   "id": "f49e536b",
   "metadata": {},
   "source": [
    "- 直接迭代--列表[]、元组()、集合{}、字符串"
   ]
  },
  {
   "cell_type": "code",
   "execution_count": 5,
   "id": "d9f6b29d",
   "metadata": {},
   "outputs": [
    {
     "name": "stdout",
     "output_type": "stream",
     "text": [
      "李雷\n",
      "Mary\n",
      "Jack\n"
     ]
    }
   ],
   "source": [
    "graduates = {'李雷','Mary','Jack'}\n",
    "for i in graduates:\n",
    "    print(i)"
   ]
  },
  {
   "cell_type": "markdown",
   "id": "2d91a771",
   "metadata": {},
   "source": [
    "- 变换迭代--字典"
   ]
  },
  {
   "cell_type": "code",
   "execution_count": null,
   "id": "54521bdb",
   "metadata": {},
   "outputs": [
    {
     "name": "stdout",
     "output_type": "stream",
     "text": [
      "201901 Jack\n",
      "201902 Tom\n",
      "201903 Mary\n",
      "201901\n",
      "201902\n",
      "201903\n"
     ]
    }
   ],
   "source": [
    "students = {201901:'Jack', 201902:'Tom',201903:'Mary'}\n",
    "for k,v in students.items(): # 字典.items返回键值的元组\n",
    "    print(k,v)\n",
    "for student in students: # 字典默认返回 键\n",
    "    print(student)"
   ]
  },
  {
   "cell_type": "markdown",
   "id": "dba689a2",
   "metadata": {},
   "source": [
    "- range()对象"
   ]
  },
  {
   "cell_type": "code",
   "execution_count": 10,
   "id": "c9c060b7",
   "metadata": {},
   "outputs": [
    {
     "name": "stdout",
     "output_type": "stream",
     "text": [
      "[0, 1, 4, 9, 16]\n"
     ]
    }
   ],
   "source": [
    "res = []\n",
    "for i in range(10000):\n",
    "    res.append(i**2)\n",
    "print(res[:5])"
   ]
  },
  {
   "cell_type": "code",
   "execution_count": 11,
   "id": "9a64e149",
   "metadata": {},
   "outputs": [
    {
     "name": "stdout",
     "output_type": "stream",
     "text": [
      "[1, 9, 25, 49, 81]\n"
     ]
    }
   ],
   "source": [
    "res = []\n",
    "for i in range(1,10,2):\n",
    "    res.append(i**2)\n",
    "print(res[:5])"
   ]
  },
  {
   "cell_type": "markdown",
   "id": "316df1c0",
   "metadata": {},
   "source": [
    "**循环控制**  \n",
    "- break 结束整个循环"
   ]
  },
  {
   "cell_type": "code",
   "execution_count": null,
   "id": "26b2346a",
   "metadata": {},
   "outputs": [
    {
     "name": "stdout",
     "output_type": "stream",
     "text": [
      "本组产品不合格\n"
     ]
    }
   ],
   "source": [
    "product_scores = [89,90,99,70,67,78,85,92,77,82]\n",
    "# 如果低于75分超过1个，则该组产品不合格\n",
    "i = 0\n",
    "for score in product_scores:\n",
    "    if score < 75:\n",
    "        i += 1\n",
    "    if i >= 2:\n",
    "        print('本组产品不合格')\n",
    "        break"
   ]
  },
  {
   "cell_type": "markdown",
   "id": "7b139381",
   "metadata": {},
   "source": [
    "- continue 结束本次循环"
   ]
  },
  {
   "cell_type": "code",
   "execution_count": 13,
   "id": "89c87cd9",
   "metadata": {},
   "outputs": [
    {
     "name": "stdout",
     "output_type": "stream",
     "text": [
      "第3个产品分数为70：不合格\n",
      "第4个产品分数为67：不合格\n"
     ]
    }
   ],
   "source": [
    "product_scores = [89,90,99,70,67,78,85,92,77,82]\n",
    "# 如果低于75分，输出警示\n",
    "\n",
    "for i in range(len(product_scores)):\n",
    "    if product_scores[i] > 75:\n",
    "        continue\n",
    "    print(f'第{i}个产品分数为{product_scores[i]}：不合格')\n"
   ]
  },
  {
   "cell_type": "markdown",
   "id": "587d3244",
   "metadata": {},
   "source": [
    "- for与else的配合  \n",
    "如果for循环全部执行完毕，没有被break终止，则运行else块  \n",
    "可以视作else是for循环成功运行的奖励"
   ]
  },
  {
   "cell_type": "code",
   "execution_count": null,
   "id": "001beadf",
   "metadata": {},
   "outputs": [
    {
     "name": "stdout",
     "output_type": "stream",
     "text": [
      "该组产品不合格\n"
     ]
    }
   ],
   "source": [
    "product_scores = [89,90,99,70,67,78,85,92,77,82]\n",
    "# 如果低于75分超过2个，则该组产品不合格\n",
    "i = 0\n",
    "for score in product_scores:\n",
    "    if score < 75:\n",
    "        i += 1\n",
    "    if i > 2:\n",
    "        print(\"该组产品不合格\")\n",
    "        break\n",
    "else:\n",
    "    print(\"该组产品合格\")"
   ]
  },
  {
   "cell_type": "markdown",
   "id": "4a793d63",
   "metadata": {},
   "source": [
    "**无限循环--while循环**  \n",
    "为什么使用while循环  \n",
    "例题：猜数字  \n",
    "代码可能需要重复运行，但是不知道具体需要运行多少次  \n",
    "while循环主要格式：\n",
    "<pre>\n",
    "while 判断条件:\n",
    "    执行语句\n",
    "<pre\\>  \n",
    "条件为真，执行语句  \n",
    "条件为假，while循环结束\n"
   ]
  },
  {
   "cell_type": "code",
   "execution_count": 18,
   "id": "2be8925f",
   "metadata": {},
   "outputs": [
    {
     "name": "stdout",
     "output_type": "stream",
     "text": [
      "猜的年龄过小\n",
      "猜的年龄过小\n",
      "猜的年龄过大\n",
      "猜的年龄过大\n",
      "猜的年龄过小\n",
      "猜对了\n"
     ]
    }
   ],
   "source": [
    "age = 18\n",
    "while guess != age:\n",
    "    guess = eval(input(\"请猜测年龄：\"))\n",
    "    if guess > age:\n",
    "        print('猜的年龄过大')\n",
    "    else:\n",
    "        print('猜的年龄过小')\n",
    "print(\"猜对了\")\n"
   ]
  },
  {
   "cell_type": "markdown",
   "id": "b94345fd",
   "metadata": {},
   "source": [
    "while与判断变量"
   ]
  },
  {
   "cell_type": "code",
   "execution_count": 19,
   "id": "03bc7c1f",
   "metadata": {},
   "outputs": [
    {
     "name": "stdout",
     "output_type": "stream",
     "text": [
      "猜的年龄过小\n",
      "猜的年龄过小\n",
      "猜的年龄过大\n",
      "猜的年龄过小\n",
      "猜对了\n"
     ]
    }
   ],
   "source": [
    "age = 18\n",
    "flag = True\n",
    "while flag:\n",
    "    guess = eval(input(\"请猜测年龄：\"))\n",
    "    if guess > age:\n",
    "        print('猜的年龄过大')\n",
    "    elif guess < age:\n",
    "        print('猜的年龄过小')\n",
    "    elif guess == age:\n",
    "        print(\"猜对了\")\n",
    "        flag = False\n"
   ]
  },
  {
   "cell_type": "code",
   "execution_count": null,
   "id": "2b00af34",
   "metadata": {},
   "outputs": [],
   "source": [
    "flag = True\n",
    "while flag:\n",
    "    pass\n",
    "    while flag:\n",
    "        pass\n",
    "        while flag:\n",
    "            flag = False\n",
    "# 当flag为False时，循环逐层退出"
   ]
  },
  {
   "cell_type": "markdown",
   "id": "da403102",
   "metadata": {},
   "source": [
    "while与循环控制break、continue"
   ]
  },
  {
   "cell_type": "code",
   "execution_count": 21,
   "id": "04e3218e",
   "metadata": {},
   "outputs": [
    {
     "name": "stdout",
     "output_type": "stream",
     "text": [
      "猜的年龄过小\n",
      "猜的年龄过大\n",
      "猜对了\n"
     ]
    }
   ],
   "source": [
    "age = 18\n",
    "while True:\n",
    "    guess = eval(input(\"请猜测年龄：\"))\n",
    "    if guess > age:\n",
    "        print('猜的年龄过大')\n",
    "    elif guess < age:\n",
    "        print('猜的年龄过小')\n",
    "    elif guess == age:\n",
    "        print(\"猜对了\")\n",
    "        break"
   ]
  },
  {
   "cell_type": "code",
   "execution_count": 23,
   "id": "fd479262",
   "metadata": {},
   "outputs": [
    {
     "name": "stdout",
     "output_type": "stream",
     "text": [
      "1\n",
      "3\n",
      "5\n",
      "7\n",
      "9\n"
     ]
    }
   ],
   "source": [
    "i = 0\n",
    "while i < 10:\n",
    "    i += 1\n",
    "    if i % 2 == 0:\n",
    "        continue\n",
    "    print(i)"
   ]
  },
  {
   "cell_type": "markdown",
   "id": "a017fbb0",
   "metadata": {},
   "source": [
    "while与else  \n",
    "如果while循环全部执行完毕，没有被break终止，则运行else块"
   ]
  },
  {
   "cell_type": "code",
   "execution_count": 24,
   "id": "ee7445a6",
   "metadata": {},
   "outputs": [
    {
     "name": "stdout",
     "output_type": "stream",
     "text": [
      "Loop 1\n",
      "Loop 2\n",
      "Loop 3\n",
      "Loop 4\n",
      "Loop 5\n",
      "循环正常运行\n"
     ]
    }
   ],
   "source": [
    "count = 0\n",
    "while count < 5:\n",
    "    count += 1\n",
    "    print('Loop',count)\n",
    "else:\n",
    "    print('循环正常运行')"
   ]
  },
  {
   "cell_type": "markdown",
   "id": "769e2fce",
   "metadata": {},
   "source": [
    "额外的例子"
   ]
  },
  {
   "cell_type": "code",
   "execution_count": 25,
   "id": "f08c8750",
   "metadata": {},
   "outputs": [
    {
     "name": "stdout",
     "output_type": "stream",
     "text": [
      "['dog', 'dog', 'pig', 'goldfish', 'rabbit']\n"
     ]
    }
   ],
   "source": [
    "pets = ['dog','cat','dog','pig','goldfish','rabbit','cat']\n",
    "while 'cat' in pets:\n",
    "    pets.remove('cat')\n",
    "print(pets)"
   ]
  },
  {
   "cell_type": "code",
   "execution_count": 26,
   "id": "48300baa",
   "metadata": {},
   "outputs": [
    {
     "name": "stdout",
     "output_type": "stream",
     "text": [
      "已阅读《西游记》\n",
      "已阅读《三国演义》\n",
      "已阅读《水浒传》\n",
      "已阅读《红楼梦》\n",
      "[]\n",
      "['西游记', '三国演义', '水浒传', '红楼梦']\n"
     ]
    }
   ],
   "source": [
    "not_read = ['红楼梦','水浒传','三国演义','西游记']\n",
    "have_read = []\n",
    "while not_read:\n",
    "    book = not_read.pop()\n",
    "    have_read.append(book)\n",
    "    print(f\"已阅读《{book}》\")\n",
    "print(not_read)\n",
    "print(have_read)"
   ]
  },
  {
   "cell_type": "markdown",
   "id": "d3937273",
   "metadata": {},
   "source": [
    "**控制语句注意问题**  \n",
    "- 尽可能减少多层嵌套  \n",
    "- 避免死循环\n",
    "- 封装过于复杂的判断条件  \n",
    "如果条件判断力表达式过于复杂，出现了太多的not/and/or等，导致可读性大打折扣  \n",
    "解决方法：考虑将条件封装为函数"
   ]
  },
  {
   "cell_type": "code",
   "execution_count": 27,
   "id": "e6826909",
   "metadata": {},
   "outputs": [
    {
     "name": "stdout",
     "output_type": "stream",
     "text": [
      "10\n"
     ]
    }
   ],
   "source": [
    "a,b,c,d,e = 10,8,6,2,0\n",
    "if (a>b) and (c>d) and (not e):\n",
    "    print(a)"
   ]
  },
  {
   "cell_type": "code",
   "execution_count": 28,
   "id": "1442a803",
   "metadata": {},
   "outputs": [
    {
     "name": "stdout",
     "output_type": "stream",
     "text": [
      "Right\n"
     ]
    }
   ],
   "source": [
    "numbers = (10,8,6,2,0)\n",
    "def judge(num):\n",
    "    a,b,c,d,e = num\n",
    "    x = a > b\n",
    "    y = c > d\n",
    "    z = not e\n",
    "    return x and y and z\n",
    "\n",
    "if judge(numbers):\n",
    "    print(\"Right\")"
   ]
  }
 ],
 "metadata": {
  "kernelspec": {
   "display_name": "Learn",
   "language": "python",
   "name": "python3"
  },
  "language_info": {
   "codemirror_mode": {
    "name": "ipython",
    "version": 3
   },
   "file_extension": ".py",
   "mimetype": "text/x-python",
   "name": "python",
   "nbconvert_exporter": "python",
   "pygments_lexer": "ipython3",
   "version": "3.9.22"
  }
 },
 "nbformat": 4,
 "nbformat_minor": 5
}
