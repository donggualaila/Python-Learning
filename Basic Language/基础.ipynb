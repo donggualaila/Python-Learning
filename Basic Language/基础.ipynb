{
 "cells": [
  {
   "cell_type": "markdown",
   "id": "bcb601a4",
   "metadata": {},
   "source": [
    "input的输入数据类型为字符串"
   ]
  },
  {
   "cell_type": "code",
   "execution_count": 3,
   "id": "c0f6523d",
   "metadata": {},
   "outputs": [
    {
     "data": {
      "text/plain": [
       "'24'"
      ]
     },
     "execution_count": 3,
     "metadata": {},
     "output_type": "execute_result"
    }
   ],
   "source": [
    "x = input(\"请输入一个数字:\")\n",
    "y = input(\"请再次输入一个数字：\")\n",
    "x+y"
   ]
  },
  {
   "cell_type": "markdown",
   "id": "50d09f10",
   "metadata": {},
   "source": [
    "需要使用eval()，执行字符串表达式，不是转化数据类型"
   ]
  },
  {
   "cell_type": "code",
   "execution_count": 5,
   "id": "3d6bfdce",
   "metadata": {},
   "outputs": [
    {
     "data": {
      "text/plain": [
       "6"
      ]
     },
     "execution_count": 5,
     "metadata": {},
     "output_type": "execute_result"
    }
   ],
   "source": [
    "eval(x)+eval(y)"
   ]
  },
  {
   "cell_type": "markdown",
   "id": "5038b6ab",
   "metadata": {},
   "source": [
    "格式化输出方法format"
   ]
  },
  {
   "cell_type": "code",
   "execution_count": 18,
   "id": "76b6a221",
   "metadata": {},
   "outputs": [
    {
     "name": "stdout",
     "output_type": "stream",
     "text": [
      "PI = 3.1415926, E = 2.71828\n",
      "PI = 3.1415926, E = 2.71828\n",
      "3.1415926___________\n",
      "**********3.1415926***********\n",
      "1,000,000,000\n",
      "&&&&&&&&&&&&&&&158,754,122,365\n",
      "PI = 3.14\n",
      "PI = 314.16%\n",
      "PI = 3.14e+00\n",
      "二进制：111000010，Unicode码：ǂ，十进制：450，八进制：702，十六进制：1c2\n",
      "My number is 1.54, his number is ************************21.30%\n"
     ]
    }
   ],
   "source": [
    "PI = 3.1415926\n",
    "E = 2.71828\n",
    "print(\"PI = {0}, E = {1}\".format(PI,E))\n",
    "print(\"PI = {}, E = {}\".format(PI,E))\n",
    "# 修饰性输出，冒号之后进行修饰\n",
    "print(\"{0:_<20}\".format(PI)) #下划线，右对齐，20字符\n",
    "print(\"{0:*^30}\".format(PI)) #星号，居中，30字符\n",
    "print(\"{0:,}\".format(1000000000)) # 千分位分隔符\n",
    "print(\"{0:&>30,}\".format(158754122365)) # format顺序不可变，填充符号，对齐，字符数，分隔符\n",
    "\n",
    "# 浮点数简化输出\n",
    "print(\"PI = {0:.2f}\".format(PI)) # 保留两位小数\n",
    "print(\"PI = {0:.2%}\".format(PI)) # 两位百分数输出\n",
    "print(\"PI = {0:.2e}\".format(PI)) # 两位科学计数法输出层\n",
    "\n",
    "# 进制转化\n",
    "print(\"二进制：{0:b}，Unicode码：{0:c}，十进制：{0:d}，八进制：{0:o}，十六进制：{0:x}\".format(450)) # b = 2进制，c = Unicode码，d = 十进制， o = 八进制， x = 16进制\n",
    "\n",
    "# f-string 格式与format类似但更简洁\n",
    "x = 1.536\n",
    "y = 0.213\n",
    "print(f\"My number is {x:.2f}, his number is {y:*>30.2%}\")"
   ]
  },
  {
   "cell_type": "markdown",
   "id": "a8977be1",
   "metadata": {},
   "source": [
    "**PEP 8 规范**  \n",
    "- 缩进一个TAB或4空格  \n",
    "- 函数或类之间用2个空行分隔  \n",
    "- 类内方法之间用1个空行分隔  \n",
    "- 模块/变量/函数名：全小写加下划线 example_module, calculate_total  \n",
    "- 类名：驼峰式 ClassName  \n",
    "- 常量名：全大写加下划线 MAX_VALUE  \n",
    "- 私有属性名：双下划线开头 __private_var  \n",
    "- 最低级运算符两侧加空格 x = x*x + y*y  \n",
    "- 函数参数两侧不加空格 func(avg=value)  \n",
    "- 异常名以Error结尾 CustomError  "
   ]
  },
  {
   "cell_type": "markdown",
   "id": "e31b6a18",
   "metadata": {},
   "source": [
    "注释"
   ]
  },
  {
   "cell_type": "code",
   "execution_count": null,
   "id": "cc88a860",
   "metadata": {},
   "outputs": [],
   "source": [
    "# 单行注释（一个井号）\n",
    "\n",
    "\"\"\"\n",
    "多行注释（三个双引号）\n",
    "\"\"\""
   ]
  }
 ],
 "metadata": {
  "kernelspec": {
   "display_name": "Learn",
   "language": "python",
   "name": "python3"
  },
  "language_info": {
   "codemirror_mode": {
    "name": "ipython",
    "version": 3
   },
   "file_extension": ".py",
   "mimetype": "text/x-python",
   "name": "python",
   "nbconvert_exporter": "python",
   "pygments_lexer": "ipython3",
   "version": "3.9.22"
  }
 },
 "nbformat": 4,
 "nbformat_minor": 5
}
