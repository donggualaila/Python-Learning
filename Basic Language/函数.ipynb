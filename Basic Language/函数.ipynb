{
 "cells": [
  {
   "cell_type": "markdown",
   "id": "1a7870d8",
   "metadata": {},
   "source": [
    "**函数作用**  \n",
    "作用：  \n",
    "1. 提高代码复用性--抽象出来，封装为函数  \n",
    "2. 将复杂的大问题分解为一系列小问题，分而治之--模块化设计的思想  \n",
    "3. 利于代码的维护和管理  \n",
    "\n",
    "顺序式"
   ]
  },
  {
   "cell_type": "code",
   "execution_count": 1,
   "id": "7f3dfa7b",
   "metadata": {},
   "outputs": [
    {
     "name": "stdout",
     "output_type": "stream",
     "text": [
      "120\n",
      "2432902008176640000\n"
     ]
    }
   ],
   "source": [
    "# 5的阶乘\n",
    "n = 5\n",
    "res = 1\n",
    "for i in range(1,n+1):\n",
    "    res *= i\n",
    "print(res)\n",
    "\n",
    "# 20的阶乘\n",
    "n = 20\n",
    "res = 1\n",
    "for i in range(1,n+1):\n",
    "    res *= i\n",
    "print(res)"
   ]
  },
  {
   "cell_type": "markdown",
   "id": "aa193cec",
   "metadata": {},
   "source": [
    "抽象成函数"
   ]
  },
  {
   "cell_type": "code",
   "execution_count": null,
   "id": "eeafaef3",
   "metadata": {},
   "outputs": [
    {
     "name": "stdout",
     "output_type": "stream",
     "text": [
      "120\n",
      "2432902008176640000\n"
     ]
    }
   ],
   "source": [
    "def factoria(n):\n",
    "    res = 1\n",
    "    for i in range(1,n+1):\n",
    "        res *= i\n",
    "    return res\n",
    "\n",
    "print(factoria(5))\n",
    "print(factoria(20))"
   ]
  },
  {
   "cell_type": "markdown",
   "id": "dc77a8d2",
   "metadata": {},
   "source": [
    "**函数的定义与调用**  \n",
    "白箱子：输入--处理--输出  \n",
    "三要素：参数、函数体、返回值 \n",
    "1. 定义\n",
    "<pre>\n",
    "def 函数名(参数)：\n",
    "    函数体\n",
    "    return 返回值\n",
    "<pre\\>"
   ]
  },
  {
   "cell_type": "code",
   "execution_count": 4,
   "id": "9e57449b",
   "metadata": {},
   "outputs": [],
   "source": [
    "# 求正方形面积\n",
    "def area_of_square(length_of_side):\n",
    "    return length_of_side ** 2"
   ]
  },
  {
   "cell_type": "markdown",
   "id": "87473c7f",
   "metadata": {},
   "source": [
    "2. 调用  \n",
    "函数名（参数）"
   ]
  },
  {
   "cell_type": "code",
   "execution_count": 5,
   "id": "8daabe28",
   "metadata": {},
   "outputs": [
    {
     "name": "stdout",
     "output_type": "stream",
     "text": [
      "25\n"
     ]
    }
   ],
   "source": [
    "print(area_of_square(5))"
   ]
  },
  {
   "cell_type": "markdown",
   "id": "92134987",
   "metadata": {},
   "source": [
    "**参数传递**  \n",
    "形参与实参  \n",
    "- 形参（形式参数）：函数定义时的参数，实际上就是变量名  \n",
    "- 实参（实际参数）：函数调用时的参数，实际上就是变量的值  \n",
    "1. 位置参数  \n",
    "- 严格按照位置顺序，用实参对形参进行赋值\n",
    "- 一般用在参数比较少的时候"
   ]
  },
  {
   "cell_type": "code",
   "execution_count": 7,
   "id": "d3cd03b6",
   "metadata": {},
   "outputs": [
    {
     "name": "stdout",
     "output_type": "stream",
     "text": [
      "1 2 3\n"
     ]
    }
   ],
   "source": [
    "def function(x,y,z):\n",
    "    print(x,y,z)\n",
    "\n",
    "function(1,2,3)"
   ]
  },
  {
   "cell_type": "markdown",
   "id": "f7fa8892",
   "metadata": {},
   "source": [
    "- 实参与形参个数必须一一对应，一个不能多，一个不能少"
   ]
  },
  {
   "cell_type": "code",
   "execution_count": 15,
   "id": "b7b9e08f",
   "metadata": {},
   "outputs": [],
   "source": [
    "# function(1,2)\n",
    "# function(1,2,3,4)"
   ]
  },
  {
   "cell_type": "markdown",
   "id": "ba06c317",
   "metadata": {},
   "source": [
    "2. 关键字参数\n",
    "- 打破位置限制，直呼其名的进行值的传递\n",
    "- 必须遵守实参与形参数量上的一一对应\n",
    "- 多用在参数比较多的场合"
   ]
  },
  {
   "cell_type": "code",
   "execution_count": 14,
   "id": "01c51190",
   "metadata": {},
   "outputs": [
    {
     "name": "stdout",
     "output_type": "stream",
     "text": [
      "3 1 2\n"
     ]
    }
   ],
   "source": [
    "def function(x,y,z):\n",
    "    print(x,y,z)\n",
    "function(y=1,x=3,z=2)"
   ]
  },
  {
   "cell_type": "markdown",
   "id": "9ad886fc",
   "metadata": {},
   "source": [
    "3. 位置参数可以和关键字参数混用，但是位置参数必须在前，同时不能为同一个形参重复传值"
   ]
  },
  {
   "cell_type": "code",
   "execution_count": 13,
   "id": "4e2cf9fb",
   "metadata": {},
   "outputs": [
    {
     "name": "stdout",
     "output_type": "stream",
     "text": [
      "1 2 3\n"
     ]
    }
   ],
   "source": [
    "def function(x,y,z):\n",
    "    print(x,y,z)\n",
    "function(1,z=3,y=2)"
   ]
  },
  {
   "cell_type": "code",
   "execution_count": null,
   "id": "515b4616",
   "metadata": {},
   "outputs": [],
   "source": [
    "# 重复传值\n",
    "def function(x,y,z):\n",
    "    print(x,y,z)\n",
    "# function(1,x=1,y=2,z=3)"
   ]
  },
  {
   "cell_type": "markdown",
   "id": "333c60df",
   "metadata": {},
   "source": [
    "4. 默认参数\n",
    "- 在定义阶段就给形参赋值--该形参的常用值\n",
    "- 机器学习库中类的方法里非常常见\n",
    "- 调用函数时，可以不对该形参传值  "
   ]
  },
  {
   "cell_type": "code",
   "execution_count": 19,
   "id": "66ec6e27",
   "metadata": {},
   "outputs": [
    {
     "name": "stdout",
     "output_type": "stream",
     "text": [
      "Polo 18 male\n",
      "Mary 16 male\n"
     ]
    }
   ],
   "source": [
    "def register(name,age,sex='male'):\n",
    "    print(name,age,sex)\n",
    "\n",
    "register('Polo',18)\n",
    "register('Mary',16,'male')"
   ]
  },
  {
   "cell_type": "markdown",
   "id": "a85f8e30",
   "metadata": {},
   "source": [
    "- 位置参数必须在默认参数之前"
   ]
  },
  {
   "cell_type": "code",
   "execution_count": 20,
   "id": "b61a9c19",
   "metadata": {},
   "outputs": [],
   "source": [
    "#def register(name,sex='male',age):\n",
    "#    print(name,age,sex)\n",
    "\n",
    "#register('Polo',18)"
   ]
  },
  {
   "cell_type": "markdown",
   "id": "155ba1ad",
   "metadata": {},
   "source": [
    "- 默认参数应该设置为不可变类型（数字、字符串、元组）"
   ]
  },
  {
   "cell_type": "code",
   "execution_count": null,
   "id": "b038efa0",
   "metadata": {},
   "outputs": [
    {
     "name": "stdout",
     "output_type": "stream",
     "text": [
      "1408406653632\n",
      "1408406653632\n",
      "[1]\n",
      "1408406653632\n",
      "1408406653632\n",
      "[1, 1]\n",
      "1408406653632\n",
      "1408406653632\n",
      "[1, 1, 1]\n"
     ]
    }
   ],
   "source": [
    "def function(ls=[]):\n",
    "    print(id(ls))\n",
    "    ls.append(1)\n",
    "    print(id(ls))\n",
    "    print(ls)\n",
    "\n",
    "function()\n",
    "function()\n",
    "function()\n",
    "# 列表的地址一直没变，造成列表好像存在记忆功能"
   ]
  },
  {
   "cell_type": "code",
   "execution_count": null,
   "id": "b788d950",
   "metadata": {},
   "outputs": [
    {
     "name": "stdout",
     "output_type": "stream",
     "text": [
      "1408351210928\n",
      "1408406369264\n",
      "python3.7\n",
      "1408351210928\n",
      "1408406593648\n",
      "python3.7\n",
      "1408351210928\n",
      "1408406597232\n",
      "python3.7\n"
     ]
    }
   ],
   "source": [
    "def function(ls='python'):\n",
    "    print(id(ls))\n",
    "    ls += '3.7'\n",
    "    print(id(ls))\n",
    "    print(ls)\n",
    "\n",
    "function()\n",
    "function()\n",
    "function()"
   ]
  },
  {
   "cell_type": "markdown",
   "id": "e3b2b1c9",
   "metadata": {},
   "source": [
    "- 参数变为可选（有时候需要用到该参数，有时候不需要）"
   ]
  },
  {
   "cell_type": "code",
   "execution_count": 25,
   "id": "7f6d1249",
   "metadata": {},
   "outputs": [
    {
     "name": "stdout",
     "output_type": "stream",
     "text": [
      "MaryJane\n",
      "MaryCloeJane\n"
     ]
    }
   ],
   "source": [
    "def name(first_name,last_name,middle_name=None):\n",
    "    if middle_name:\n",
    "        return first_name + middle_name + last_name\n",
    "    else:\n",
    "        return first_name + last_name\n",
    "    \n",
    "print(name('Mary','Jane'))\n",
    "print(name('Mary','Jane','Cloe'))"
   ]
  },
  {
   "cell_type": "markdown",
   "id": "f2e324f0",
   "metadata": {},
   "source": [
    "5. 可变长参数  *args\n",
    "- 不知道会传过来多少参数 *args\n",
    "- 该形参必须放在参数列表的最后"
   ]
  },
  {
   "cell_type": "code",
   "execution_count": null,
   "id": "c4e82767",
   "metadata": {},
   "outputs": [
    {
     "name": "stdout",
     "output_type": "stream",
     "text": [
      "1 2 3\n",
      "(4, 5, 6)\n"
     ]
    }
   ],
   "source": [
    "def foo(x, y, z, *args):\n",
    "    print(x,y,z)\n",
    "    print(args)\n",
    "\n",
    "foo(1,2,3,4,5,6) # 多余的参数，打包传递给args"
   ]
  },
  {
   "cell_type": "markdown",
   "id": "2807c303",
   "metadata": {},
   "source": [
    "- 实参打散"
   ]
  },
  {
   "cell_type": "code",
   "execution_count": 32,
   "id": "a870a868",
   "metadata": {},
   "outputs": [
    {
     "name": "stdout",
     "output_type": "stream",
     "text": [
      "1 2 3\n",
      "([4, 5, 6],)\n",
      "1 2 3\n",
      "(1, 2, 3)\n"
     ]
    }
   ],
   "source": [
    "def foo(x, y, z, *args):\n",
    "    print(x,y,z)\n",
    "    print(args)\n",
    "\n",
    "foo(1,2,3,[4,5,6])\n",
    "foo(1,2,3,*[1,2,3])  # 打散的是列表、字符串、元组或集合"
   ]
  },
  {
   "cell_type": "markdown",
   "id": "66f31f9d",
   "metadata": {},
   "source": [
    "6. 可变参数  **kwarg"
   ]
  },
  {
   "cell_type": "code",
   "execution_count": 28,
   "id": "5d300177",
   "metadata": {},
   "outputs": [
    {
     "name": "stdout",
     "output_type": "stream",
     "text": [
      "1 2 3\n",
      "{'a': 4, 'b': 5, 'c': 6}\n"
     ]
    }
   ],
   "source": [
    "def foo(x,y,z, **kwargs):\n",
    "    print(x,y,z)\n",
    "    print(kwargs)\n",
    "\n",
    "foo(1,2,3,a=4,b=5,c=6)    # 多余的参数，以字典的形式打包传递给kwargs"
   ]
  },
  {
   "cell_type": "markdown",
   "id": "b8adc0b4",
   "metadata": {},
   "source": [
    "- 字典实参打散"
   ]
  },
  {
   "cell_type": "code",
   "execution_count": 29,
   "id": "527b0c1c",
   "metadata": {},
   "outputs": [
    {
     "name": "stdout",
     "output_type": "stream",
     "text": [
      "1 2 3\n",
      "{'a': 4, 'b': 5, 'c': 6}\n"
     ]
    }
   ],
   "source": [
    "def foo(x,y,z, **kwargs):\n",
    "    print(x,y,z)\n",
    "    print(kwargs)\n",
    "\n",
    "foo(1,2,3, **{'a':4,'b':5,'c':6})"
   ]
  },
  {
   "cell_type": "markdown",
   "id": "bbcfbb03",
   "metadata": {},
   "source": [
    "- 可变长参数的组合使用"
   ]
  },
  {
   "cell_type": "code",
   "execution_count": 33,
   "id": "804465d3",
   "metadata": {},
   "outputs": [
    {
     "name": "stdout",
     "output_type": "stream",
     "text": [
      "(1, 2, 3)\n",
      "{'a': 4, 'b': 5, 'c': 6}\n"
     ]
    }
   ],
   "source": [
    "def foo(*args, **kwargs):\n",
    "    print(args)\n",
    "    print(kwargs)\n",
    "\n",
    "foo(1,2,3,a=4,b=5,c=6)"
   ]
  },
  {
   "cell_type": "markdown",
   "id": "bf78e1c8",
   "metadata": {},
   "source": [
    "**函数体与变量作用域**  \n",
    "- 函数体就是一段只有在函数被调用时，才会执行的代码，代码构成与其他代码并无不同\n",
    "- **局部变量**--仅在函数体内定义和发挥作用"
   ]
  },
  {
   "cell_type": "code",
   "execution_count": 35,
   "id": "838e1c50",
   "metadata": {},
   "outputs": [
    {
     "name": "stdout",
     "output_type": "stream",
     "text": [
      "18\n"
     ]
    }
   ],
   "source": [
    "def multipy(x,y):\n",
    "    z = x*y\n",
    "    return z\n",
    "\n",
    "print(multipy(2,9))\n",
    "#print(z)    函数执行完毕，局部变量z已经被释放掉了"
   ]
  },
  {
   "cell_type": "markdown",
   "id": "39b641f2",
   "metadata": {},
   "source": [
    "- **全局变量**--外部定义的都是全局变量\n",
    "- 全局变量可以在函数体内直接被使用"
   ]
  },
  {
   "cell_type": "code",
   "execution_count": 36,
   "id": "d3b1ef73",
   "metadata": {},
   "outputs": [
    {
     "name": "stdout",
     "output_type": "stream",
     "text": [
      "54\n",
      "[0, 54]\n"
     ]
    }
   ],
   "source": [
    "n = 3\n",
    "ls = [0]\n",
    "def multipy(x,y):\n",
    "    z = n*x*y\n",
    "    ls.append(z)\n",
    "    return z\n",
    "\n",
    "print(multipy(2,9))\n",
    "print(ls)"
   ]
  },
  {
   "cell_type": "markdown",
   "id": "da3f5f65",
   "metadata": {},
   "source": [
    "- 通过global在函数体内定义全局变量"
   ]
  },
  {
   "cell_type": "code",
   "execution_count": 37,
   "id": "16aadd21",
   "metadata": {},
   "outputs": [
    {
     "name": "stdout",
     "output_type": "stream",
     "text": [
      "18\n",
      "18\n"
     ]
    }
   ],
   "source": [
    "def multipy(x,y):\n",
    "    global z\n",
    "    z = x*y\n",
    "    return z\n",
    "\n",
    "print(multipy(2,9))\n",
    "print(z)"
   ]
  },
  {
   "cell_type": "markdown",
   "id": "38a3a829",
   "metadata": {},
   "source": [
    "**返回值**  \n",
    "1. 单个返回值"
   ]
  },
  {
   "cell_type": "code",
   "execution_count": 38,
   "id": "ccb4647c",
   "metadata": {},
   "outputs": [],
   "source": [
    "def foo(x):\n",
    "    return x**2"
   ]
  },
  {
   "cell_type": "markdown",
   "id": "d0a0d4e5",
   "metadata": {},
   "source": [
    "2. 多个返回值--元组形式返回"
   ]
  },
  {
   "cell_type": "code",
   "execution_count": null,
   "id": "a436f5d2",
   "metadata": {},
   "outputs": [
    {
     "name": "stdout",
     "output_type": "stream",
     "text": [
      "(1, 3, 9, 27)\n",
      "1\n",
      "3\n",
      "9\n",
      "27\n"
     ]
    }
   ],
   "source": [
    "def foo(x=1):\n",
    "    return 1,x,x**2,x**3    # 逗号分开，打包返回\n",
    "\n",
    "print(foo(3))\n",
    "a,b,c,d = foo(3) # 解包赋值\n",
    "print(a)\n",
    "print(b)\n",
    "print(c)\n",
    "print(d)"
   ]
  },
  {
   "cell_type": "markdown",
   "id": "24038978",
   "metadata": {},
   "source": [
    "3. 可以有多个return语句，一旦其中一个执行，代表了函数运行的结束"
   ]
  },
  {
   "cell_type": "code",
   "execution_count": null,
   "id": "535661b4",
   "metadata": {},
   "outputs": [
    {
     "name": "stdout",
     "output_type": "stream",
     "text": [
      "Not Holiday\n",
      "Is Holiday\n"
     ]
    }
   ],
   "source": [
    "def is_holiday(day):\n",
    "    if day in ['Sunday','Saturday']:\n",
    "        return 'Is Holiday'\n",
    "    else:\n",
    "        return 'Not Holiday'\n",
    "    print('还在继续运行')  # 其实并没有运行\n",
    "\n",
    "print(is_holiday('Monday'))\n",
    "print(is_holiday('Sunday'))"
   ]
  },
  {
   "cell_type": "markdown",
   "id": "0f891221",
   "metadata": {},
   "source": [
    "4. 没有return语句，返回值为None"
   ]
  },
  {
   "cell_type": "code",
   "execution_count": 41,
   "id": "ed68dc39",
   "metadata": {},
   "outputs": [
    {
     "name": "stdout",
     "output_type": "stream",
     "text": [
      "Hi\n",
      "None\n"
     ]
    }
   ],
   "source": [
    "def foo():\n",
    "    print('Hi')\n",
    "\n",
    "res = foo()\n",
    "print(res)"
   ]
  },
  {
   "cell_type": "markdown",
   "id": "77fe5123",
   "metadata": {},
   "source": [
    "**Tips:**  \n",
    "- 函数及其参数的命名参照变量的命名（小写及下划线的组合，有实际意义）\n",
    "- 应包含简要阐述函数功能的注释，注释紧跟函数定义后面"
   ]
  },
  {
   "cell_type": "code",
   "execution_count": 42,
   "id": "38ee4298",
   "metadata": {},
   "outputs": [],
   "source": [
    "def foo():\n",
    "    # 描述函数的作用\n",
    "    pass"
   ]
  },
  {
   "cell_type": "markdown",
   "id": "4559fc0e",
   "metadata": {},
   "source": [
    "- 函数定义前后各空两行\n",
    "- 默认长参数赋值等号两侧不需要加空格"
   ]
  },
  {
   "cell_type": "code",
   "execution_count": 43,
   "id": "2f7bdf00",
   "metadata": {},
   "outputs": [],
   "source": [
    "def f1():\n",
    "    pass\n",
    "\n",
    "\n",
    "def f2():\n",
    "    pass\n",
    "\n",
    "\n",
    "def f3(x=3):    # 默认参数赋值等号两侧不需要加空格\n",
    "    pass"
   ]
  },
  {
   "cell_type": "markdown",
   "id": "fca2b971",
   "metadata": {},
   "source": [
    "**函数式编程实例**  \n",
    "模块化编程思想\n",
    "- 自顶而下，分而治之"
   ]
  },
  {
   "cell_type": "markdown",
   "id": "2529489a",
   "metadata": {},
   "source": [
    "实例：  \n",
    "**问题描述**  \n",
    "- 小丹和小伟羽毛球打得不错，水平在伯仲之间，小丹略胜一筹，基本上，打100球，小丹能赢55次，小伟能赢45次  \n",
    "- 但是每次大型比赛（1局定胜负，谁赢到21分，谁就赢），小丹赢的概率远远大于小伟，小伟很不服气  \n",
    "- 你能通过模拟实验来说明其中的原因吗？"
   ]
  },
  {
   "cell_type": "markdown",
   "id": "6241548c",
   "metadata": {},
   "source": [
    "**问题分解**"
   ]
  },
  {
   "cell_type": "code",
   "execution_count": 69,
   "id": "64cbd718",
   "metadata": {},
   "outputs": [],
   "source": [
    "def main():\n",
    "    prob_A, prob_B, number_of_games = get_inputs()\n",
    "    win_A, win_B = sim_n_games(prob_A, prob_B, number_of_games)\n",
    "    print_summary(win_A, win_B, number_of_games)"
   ]
  },
  {
   "cell_type": "markdown",
   "id": "1c29b41e",
   "metadata": {},
   "source": [
    "1. 输入原始数据"
   ]
  },
  {
   "cell_type": "code",
   "execution_count": 49,
   "id": "9de9dcd8",
   "metadata": {},
   "outputs": [],
   "source": [
    "def get_inputs():\n",
    "    prob_A = eval(input(\"请输入A球员的赢球概率：\"))\n",
    "    prob_B = round(1 - prob_A,2) # round()四舍五入函数\n",
    "    number_of_games = eval(input(\"请输入需要模拟的场次：\"))\n",
    "    print(f\"A球员获胜概率为：{prob_A}\")\n",
    "    print(f\"B球员获胜概率为：{prob_B}\")\n",
    "    print(f\"总模拟次数：{number_of_games}\")\n",
    "    return prob_A, prob_B, number_of_games"
   ]
  },
  {
   "cell_type": "code",
   "execution_count": 50,
   "id": "36f608dc",
   "metadata": {},
   "outputs": [
    {
     "name": "stdout",
     "output_type": "stream",
     "text": [
      "A球员获胜概率为：0.55\n",
      "B球员获胜概率为：0.45\n",
      "总模拟次数：10000\n"
     ]
    }
   ],
   "source": [
    "# 模块测试\n",
    "A,B,C = get_inputs()"
   ]
  },
  {
   "cell_type": "markdown",
   "id": "dc273a12",
   "metadata": {},
   "source": [
    "2. 多场比赛模拟"
   ]
  },
  {
   "cell_type": "code",
   "execution_count": 54,
   "id": "0662d1b4",
   "metadata": {},
   "outputs": [],
   "source": [
    "def sim_n_games(prob_A, prob_B, number_of_games):\n",
    "    # 模拟多场比赛成绩\n",
    "    win_A, win_B = 0, 0\n",
    "    for i in range(number_of_games):\n",
    "        score_A,score_B = sim_one_game(prob_A,prob_B)\n",
    "        if score_A > score_B:\n",
    "            win_A += 1\n",
    "        else:\n",
    "            win_B += 1\n",
    "    return win_A, win_B"
   ]
  },
  {
   "cell_type": "code",
   "execution_count": null,
   "id": "db418446",
   "metadata": {},
   "outputs": [],
   "source": [
    "import random\n",
    "def sim_one_game(prob_A, prob_B):\n",
    "    # 模拟一次比赛成绩\n",
    "    score_A, score_B = 0,0\n",
    "    while not game_over(score_A,score_B):\n",
    "        if random.random() < prob_A:       # random.random()生成[0,1)之间的均匀分布小数\n",
    "            score_A += 1\n",
    "        else:\n",
    "            score_B += 1\n",
    "    return score_A,score_B"
   ]
  },
  {
   "cell_type": "code",
   "execution_count": 53,
   "id": "ce2f6b22",
   "metadata": {},
   "outputs": [],
   "source": [
    "def game_over(score_A, score_B):\n",
    "    # 判断某一方是否达成21分\n",
    "    return score_A == 21 or score_B == 21"
   ]
  },
  {
   "cell_type": "markdown",
   "id": "ee110785",
   "metadata": {},
   "source": [
    "单元测试 用assert----断言\n",
    "- 格式：assert expression\n",
    "- 表达式结果为false的时候触发异常"
   ]
  },
  {
   "cell_type": "code",
   "execution_count": 67,
   "id": "5132496a",
   "metadata": {},
   "outputs": [],
   "source": [
    "assert game_over(21, 8) == True\n",
    "assert game_over(9, 21) == True\n",
    "# assert game_over(11, 8) == True"
   ]
  },
  {
   "cell_type": "code",
   "execution_count": 59,
   "id": "1d331d0a",
   "metadata": {},
   "outputs": [
    {
     "name": "stdout",
     "output_type": "stream",
     "text": [
      "(20, 21)\n",
      "(21, 5)\n",
      "(6, 21)\n"
     ]
    }
   ],
   "source": [
    "print(sim_one_game(0.55, 0.45))\n",
    "print(sim_one_game(0.7, 0.3))\n",
    "print(sim_one_game(0.2, 0.8))"
   ]
  },
  {
   "cell_type": "code",
   "execution_count": 64,
   "id": "a64e0999",
   "metadata": {},
   "outputs": [
    {
     "name": "stdout",
     "output_type": "stream",
     "text": [
      "(911, 89)\n"
     ]
    }
   ],
   "source": [
    "print(sim_n_games(0.6,0.4,1000))"
   ]
  },
  {
   "cell_type": "markdown",
   "id": "e183ef23",
   "metadata": {},
   "source": [
    "3. 结果汇总输出"
   ]
  },
  {
   "cell_type": "code",
   "execution_count": 65,
   "id": "507b8ba5",
   "metadata": {},
   "outputs": [],
   "source": [
    "def print_summary(win_A, win_B, number_of_games):\n",
    "    # 结果汇总输出\n",
    "    print(f\"共模拟了{number_of_games}场\")\n",
    "    print(f\"球员A获胜了{win_A}场比赛，胜率为{win_A/(win_A+win_B)}\")\n",
    "    print(f\"球员B获胜了{win_B}场比赛，胜率为{win_B/(win_A+win_B)}\")"
   ]
  },
  {
   "cell_type": "code",
   "execution_count": 66,
   "id": "502ae88c",
   "metadata": {},
   "outputs": [
    {
     "name": "stdout",
     "output_type": "stream",
     "text": [
      "共模拟了1000场\n",
      "球员A获胜了729场比赛，胜率为0.729\n",
      "球员B获胜了271场比赛，胜率为0.271\n"
     ]
    }
   ],
   "source": [
    "print_summary(729,271,1000)"
   ]
  },
  {
   "cell_type": "markdown",
   "id": "eed593fe",
   "metadata": {},
   "source": [
    "完整代码"
   ]
  },
  {
   "cell_type": "code",
   "execution_count": 71,
   "id": "5d7b8326",
   "metadata": {},
   "outputs": [
    {
     "name": "stdout",
     "output_type": "stream",
     "text": [
      "A球员获胜概率为：0.55\n",
      "B球员获胜概率为：0.45\n",
      "总模拟次数：10000\n",
      "共模拟了10000场\n",
      "球员A获胜了7438场比赛，胜率为0.7438\n",
      "球员B获胜了2562场比赛，胜率为0.2562\n",
      "__main__\n"
     ]
    }
   ],
   "source": [
    "import random\n",
    "\n",
    "\n",
    "def get_inputs():\n",
    "    # 获取选手胜率和模拟次数\n",
    "    prob_A = eval(input(\"请输入A球员的赢球概率：\"))\n",
    "    prob_B = round(1 - prob_A,2) # round()四舍五入函数\n",
    "    number_of_games = eval(input(\"请输入需要模拟的场次：\"))\n",
    "    print(f\"A球员获胜概率为：{prob_A}\")\n",
    "    print(f\"B球员获胜概率为：{prob_B}\")\n",
    "    print(f\"总模拟次数：{number_of_games}\")\n",
    "    return prob_A, prob_B, number_of_games\n",
    "\n",
    "\n",
    "def sim_n_games(prob_A, prob_B, number_of_games):\n",
    "    # 模拟多场比赛成绩\n",
    "    win_A, win_B = 0, 0\n",
    "    for i in range(number_of_games):\n",
    "        score_A,score_B = sim_one_game(prob_A,prob_B)\n",
    "        if score_A > score_B:\n",
    "            win_A += 1\n",
    "        else:\n",
    "            win_B += 1\n",
    "    return win_A, win_B\n",
    "\n",
    "\n",
    "import random\n",
    "def sim_one_game(prob_A, prob_B):\n",
    "    # 模拟一次比赛成绩\n",
    "    score_A, score_B = 0,0\n",
    "    while not game_over(score_A,score_B):\n",
    "        if random.random() < prob_A:       # random.random()生成[0,1)之间的均匀分布小数\n",
    "            score_A += 1\n",
    "        else:\n",
    "            score_B += 1\n",
    "    return score_A,score_B\n",
    "\n",
    "\n",
    "def game_over(score_A, score_B):\n",
    "    # 判断某一方是否达成21分\n",
    "    return score_A == 21 or score_B == 21\n",
    "\n",
    "\n",
    "def print_summary(win_A, win_B, number_of_games):\n",
    "    # 结果汇总输出\n",
    "    print(f\"共模拟了{number_of_games}场\")\n",
    "    print(f\"球员A获胜了{win_A}场比赛，胜率为{win_A/(win_A+win_B)}\")\n",
    "    print(f\"球员B获胜了{win_B}场比赛，胜率为{win_B/(win_A+win_B)}\")\n",
    "\n",
    "\n",
    "def main():\n",
    "    # 主函数\n",
    "    prob_A, prob_B, number_of_games = get_inputs()\n",
    "    win_A, win_B = sim_n_games(prob_A, prob_B, number_of_games)\n",
    "    print_summary(win_A, win_B, number_of_games)\n",
    "\n",
    "\n",
    "if __name__ == '__main__':\n",
    "    main()\n",
    "    print(__name__)"
   ]
  },
  {
   "cell_type": "markdown",
   "id": "b16a49f8",
   "metadata": {},
   "source": [
    "**匿名函数**  \n",
    "1. 基本形式   \n",
    " 格式：lambda 变量：函数体  \n",
    "2. 常见用法  \n",
    " 在参数列表中最适合使用匿名函数，尤其是与key = 搭配\n",
    " - 排序sort(),sorted()"
   ]
  },
  {
   "cell_type": "code",
   "execution_count": null,
   "id": "d5607041",
   "metadata": {},
   "outputs": [
    {
     "name": "stdout",
     "output_type": "stream",
     "text": [
      "[(76, 94), (79, 100), (85, 85), (86, 71), (93, 88)]\n"
     ]
    }
   ],
   "source": [
    "ls = [(93,88),(79,100),(86,71),(85,85),(76,94)]\n",
    "ls.sort()\n",
    "print(ls)\n",
    "# 默认通过元组第一个数字进行排序"
   ]
  },
  {
   "cell_type": "code",
   "execution_count": null,
   "id": "b89920e1",
   "metadata": {},
   "outputs": [
    {
     "name": "stdout",
     "output_type": "stream",
     "text": [
      "[(86, 71), (85, 85), (93, 88), (76, 94), (79, 100)]\n"
     ]
    }
   ],
   "source": [
    "ls = [(93,88),(79,100),(86,71),(85,85),(76,94)]\n",
    "ls.sort(key=lambda x:x[1])\n",
    "print(ls)\n",
    "# 设定通过元组第二个数字进行排序"
   ]
  },
  {
   "cell_type": "code",
   "execution_count": 5,
   "id": "c0753c44",
   "metadata": {},
   "outputs": [
    {
     "name": "stdout",
     "output_type": "stream",
     "text": [
      "[(86, 71), (85, 85), (76, 94), (79, 100), (93, 88)]\n"
     ]
    }
   ],
   "source": [
    "ls = [(93,88),(79,100),(86,71),(85,85),(76,94)]\n",
    "temp = sorted(ls,key= lambda x:x[1]+x[0])\n",
    "print(temp)"
   ]
  },
  {
   "cell_type": "markdown",
   "id": "7faf4a32",
   "metadata": {},
   "source": [
    "- max(),min()"
   ]
  },
  {
   "cell_type": "code",
   "execution_count": 6,
   "id": "9d40c08b",
   "metadata": {},
   "outputs": [
    {
     "name": "stdout",
     "output_type": "stream",
     "text": [
      "(93, 88)\n"
     ]
    }
   ],
   "source": [
    "ls = [(93,88),(79,100),(86,71),(85,85),(76,94)]\n",
    "n = max(ls,key= lambda x:x[1]+x[0])\n",
    "print(n)"
   ]
  },
  {
   "cell_type": "code",
   "execution_count": 7,
   "id": "86646b65",
   "metadata": {},
   "outputs": [
    {
     "name": "stdout",
     "output_type": "stream",
     "text": [
      "(86, 71)\n"
     ]
    }
   ],
   "source": [
    "ls = [(93,88),(79,100),(86,71),(85,85),(76,94)]\n",
    "n = min(ls,key= lambda x:x[1]+x[0])\n",
    "print(n)"
   ]
  },
  {
   "cell_type": "markdown",
   "id": "3a6b964d",
   "metadata": {},
   "source": [
    "**面向过程和面向对象**  \n",
    "面向过程----以过程为中心的编程思想，以“什么正在发生”为主要目标进行编程。   冰冷的、程序化的  \n",
    "以事件作为分析核心，例如汽车到站  \n",
    "面向对象----将现实世界的事务抽象成对象，更关注“谁在受影响”，更加贴近现实。 有血有肉、拟人化的  \n",
    "以对象作为分析核心，例如汽车这个对象，拥有型号、动力等属性，以及启动、加油、鸣笛等一系列方法"
   ]
  }
 ],
 "metadata": {
  "kernelspec": {
   "display_name": "Learn",
   "language": "python",
   "name": "python3"
  },
  "language_info": {
   "codemirror_mode": {
    "name": "ipython",
    "version": 3
   },
   "file_extension": ".py",
   "mimetype": "text/x-python",
   "name": "python",
   "nbconvert_exporter": "python",
   "pygments_lexer": "ipython3",
   "version": "3.9.22"
  }
 },
 "nbformat": 4,
 "nbformat_minor": 5
}
