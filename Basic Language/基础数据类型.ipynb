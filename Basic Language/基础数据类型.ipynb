{
 "cells": [
  {
   "cell_type": "markdown",
   "id": "9489b854",
   "metadata": {},
   "source": [
    "**进制转换**  \n",
    "- 二进制前缀0b  \n",
    "- 八进制前缀0o  \n",
    "- 十六进制前缀0x"
   ]
  },
  {
   "cell_type": "code",
   "execution_count": 8,
   "id": "aa64ddbf",
   "metadata": {},
   "outputs": [
    {
     "name": "stdout",
     "output_type": "stream",
     "text": [
      "True\n",
      "0b10000 0o20 0x10\n",
      "False\n",
      "16 16 16\n"
     ]
    }
   ],
   "source": [
    "print(16 == 0b10000 == 0o20 == 0x10) # 判断死者是否相同 ==\n",
    "\n",
    "# 十进制转化为其他进制\n",
    "a = bin(16)\n",
    "b = oct(16)\n",
    "c = hex(16)\n",
    "print(a,b,c)\n",
    "print(a == b == c) # 进制转化的结果是字符串\n",
    "\n",
    "# 其他进制转化为十进制\n",
    "d = int(a, 2)\n",
    "e = int(b, 8)\n",
    "f = int(c, 16)\n",
    "print(d, e, f)"
   ]
  },
  {
   "cell_type": "markdown",
   "id": "45e6581c",
   "metadata": {},
   "source": [
    "**浮点数的不确定性**"
   ]
  },
  {
   "cell_type": "code",
   "execution_count": null,
   "id": "9d231719",
   "metadata": {},
   "outputs": [
    {
     "data": {
      "text/plain": [
       "False"
      ]
     },
     "execution_count": 10,
     "metadata": {},
     "output_type": "execute_result"
    }
   ],
   "source": [
    "(0.1+0.2) == 0.3"
   ]
  },
  {
   "cell_type": "code",
   "execution_count": null,
   "id": "fb553ef3",
   "metadata": {},
   "outputs": [
    {
     "data": {
      "text/plain": [
       "0.30000000000000004"
      ]
     },
     "execution_count": 11,
     "metadata": {},
     "output_type": "execute_result"
    }
   ],
   "source": [
    "0.1+0.2 # 部分小数不能用二进制小数完全表示"
   ]
  },
  {
   "cell_type": "code",
   "execution_count": 12,
   "id": "def8f668",
   "metadata": {},
   "outputs": [
    {
     "name": "stdout",
     "output_type": "stream",
     "text": [
      "0.30000000000000004\n"
     ]
    },
    {
     "data": {
      "text/plain": [
       "True"
      ]
     },
     "execution_count": 12,
     "metadata": {},
     "output_type": "execute_result"
    }
   ],
   "source": [
    "# 四舍五入获得精确解\n",
    "a = 3* 0.1\n",
    "print(a)\n",
    "b = round(a,1) # 前为数字，后为保留位数\n",
    "b == 0.3"
   ]
  },
  {
   "cell_type": "markdown",
   "id": "bb7df5d5",
   "metadata": {},
   "source": [
    "**复数运算**"
   ]
  },
  {
   "cell_type": "code",
   "execution_count": 13,
   "id": "17cf327a",
   "metadata": {},
   "outputs": [
    {
     "data": {
      "text/plain": [
       "(2+1j)"
      ]
     },
     "execution_count": 13,
     "metadata": {},
     "output_type": "execute_result"
    }
   ],
   "source": [
    "3+4j\n",
    "2+5j\n",
    "2+1j # 虚部系数为1时，需要显式写出"
   ]
  },
  {
   "cell_type": "markdown",
   "id": "25df4daa",
   "metadata": {},
   "source": [
    "**  乘方运算  \n",
    "//  整数商  \n",
    "%   模运算  \n",
    "Tips:\n",
    "- 整数与浮点数运算结果是浮点数\n",
    "- 除法运算结果是浮点数"
   ]
  },
  {
   "cell_type": "code",
   "execution_count": 14,
   "id": "176426ae",
   "metadata": {},
   "outputs": [
    {
     "name": "stdout",
     "output_type": "stream",
     "text": [
      "8\n",
      "2\n",
      "3\n"
     ]
    }
   ],
   "source": [
    "print(2**3)\n",
    "print(13//5)\n",
    "print(13%5)"
   ]
  },
  {
   "cell_type": "markdown",
   "id": "a0285389",
   "metadata": {},
   "source": [
    "abs() 求绝对值（对虚数而言是求模运算$d = \\sqrt{a^2 + b^2}$） \n",
    "pow(x,n) 幂次方 x的n次方  等价于x**n  \n",
    "pow(x,n,m) x的n次方取m余数 x**n mod m  \n",
    "round(x,n) 四舍五入到n位小数，n默认0取整数  \n",
    "divmod(x,y) 整数商和模运算，等价于返回二元数组(x\\\\y,x%y)  \n",
    "max() min() 序列最大值 最小值  \n",
    "sum() 求和  "
   ]
  },
  {
   "cell_type": "code",
   "execution_count": 15,
   "id": "352fdf60",
   "metadata": {},
   "outputs": [
    {
     "name": "stdout",
     "output_type": "stream",
     "text": [
      "5\n",
      "10.0\n",
      "32\n",
      "2\n",
      "1.62\n",
      "(2, 3)\n",
      "9 1\n",
      "15\n"
     ]
    }
   ],
   "source": [
    "print(abs(-5))\n",
    "print(abs(6+8j))\n",
    "print(pow(2,5))\n",
    "print(pow(2,5,3))\n",
    "print(round(1.618,2))\n",
    "print(divmod(13,5))\n",
    "print(max(3,2,3,5,7,9,1,2),min(3,2,3,5,7,9,1,2))\n",
    "print(sum([1,2,3,4,5])) # sum内必须使用元组或列表，无法像max一样"
   ]
  },
  {
   "cell_type": "markdown",
   "id": "e04b9949",
   "metadata": {},
   "source": [
    "**借助科学计算库**  \n",
    "math  \n",
    "scipy  \n",
    "numpy\n"
   ]
  },
  {
   "cell_type": "code",
   "execution_count": 17,
   "id": "4beb779a",
   "metadata": {},
   "outputs": [
    {
     "name": "stdout",
     "output_type": "stream",
     "text": [
      "2.718281828459045\n",
      "1.0\n",
      "2.0\n",
      "3.0\n",
      "3.0\n",
      "1.4142135623730951\n"
     ]
    }
   ],
   "source": [
    "import math\n",
    "print(math.exp(1)) # 计算e^x\n",
    "print(math.log2(2)) # 对数运算\n",
    "print(math.sqrt(4)) # 开方运算\n",
    "\n",
    "import numpy as np\n",
    "a = [1, 2, 3, 4, 5]\n",
    "print(np.mean(a)) # 求均值\n",
    "print(np.median(a)) # 求中位数\n",
    "print(np.std(a)) # 求标准差"
   ]
  },
  {
   "cell_type": "markdown",
   "id": "c5107479",
   "metadata": {},
   "source": [
    "**字符串表达**  \n",
    "- 双中有单"
   ]
  },
  {
   "cell_type": "code",
   "execution_count": 18,
   "id": "2c6225cd",
   "metadata": {},
   "outputs": [
    {
     "name": "stdout",
     "output_type": "stream",
     "text": [
      "I'm 18 years old.\n"
     ]
    }
   ],
   "source": [
    "print(\"I'm 18 years old.\")"
   ]
  },
  {
   "cell_type": "markdown",
   "id": "9d1134c9",
   "metadata": {},
   "source": [
    "- 单中有双"
   ]
  },
  {
   "cell_type": "code",
   "execution_count": 19,
   "id": "d9b26545",
   "metadata": {},
   "outputs": [
    {
     "name": "stdout",
     "output_type": "stream",
     "text": [
      "\"Python\" is good.\n"
     ]
    }
   ],
   "source": [
    "print('\"Python\" is good.')"
   ]
  },
  {
   "cell_type": "markdown",
   "id": "981ba7bc",
   "metadata": {},
   "source": [
    "- 双中有双，单中有单 ----转义符\\"
   ]
  },
  {
   "cell_type": "code",
   "execution_count": 20,
   "id": "d0707369",
   "metadata": {},
   "outputs": [
    {
     "name": "stdout",
     "output_type": "stream",
     "text": [
      "\"Python\" is good.\n"
     ]
    }
   ],
   "source": [
    "print(\"\\\"Python\\\" is good.\")"
   ]
  },
  {
   "cell_type": "markdown",
   "id": "5e0d067c",
   "metadata": {},
   "source": [
    "- 转义符\\可以用来换行输入"
   ]
  },
  {
   "cell_type": "code",
   "execution_count": 22,
   "id": "347bea4c",
   "metadata": {},
   "outputs": [
    {
     "name": "stdout",
     "output_type": "stream",
     "text": [
      "python\n"
     ]
    }
   ],
   "source": [
    "s = \"py\\\n",
    "thon\"\n",
    "print(s)"
   ]
  },
  {
   "cell_type": "markdown",
   "id": "c8b68d95",
   "metadata": {},
   "source": [
    "**字符串索引**"
   ]
  },
  {
   "cell_type": "code",
   "execution_count": 24,
   "id": "541e0671",
   "metadata": {},
   "outputs": [],
   "source": [
    "s = \"My name is Peppa Pig\""
   ]
  },
  {
   "cell_type": "markdown",
   "id": "f1ddf71e",
   "metadata": {},
   "source": [
    "**索引方法：** \n",
    "- 变量名[变量编号]\n",
    "- 每个字符拥有一个索引  \n",
    "- 从零开始递增  \n",
    "- 位置编号不超过字符串长度  "
   ]
  },
  {
   "cell_type": "code",
   "execution_count": 26,
   "id": "5dd40b54",
   "metadata": {},
   "outputs": [
    {
     "name": "stdout",
     "output_type": "stream",
     "text": [
      "M\n",
      "m\n",
      "i\n",
      "-----\n",
      "g\n",
      "a\n",
      "e\n"
     ]
    }
   ],
   "source": [
    "# 正向索引 0开始\n",
    "print(s[0])\n",
    "print(s[5])\n",
    "print(s[8])\n",
    "print(\"-----\")\n",
    "# 反向索引 -1\n",
    "print(s[-1])\n",
    "print(s[-5])\n",
    "print(s[-8])"
   ]
  },
  {
   "cell_type": "markdown",
   "id": "ddeacba9",
   "metadata": {},
   "source": [
    "**字符串切片**  \n",
    "变量名[开始位置：结束位置：切片间隔]  \n",
    "- 切面间隔默认为1\n",
    "- <u>切片范围不包括结束位置</u>\n",
    "- 起始位置是0可以省略\n",
    "- 结束位置省略代表取到最后一个字符\n",
    "- 可以使用反向索引\n",
    "- 可以进行反向切片"
   ]
  },
  {
   "cell_type": "code",
   "execution_count": 33,
   "id": "c19baa73",
   "metadata": {},
   "outputs": [
    {
     "name": "stdout",
     "output_type": "stream",
     "text": [
      "Pyt\n",
      "Pt\n",
      "Pyt\n",
      "Python\n",
      "Python\n",
      "Python\n",
      "Python\n",
      "----------\n",
      "987654321\n",
      "\n",
      "12345678\n",
      "987654321\n"
     ]
    }
   ],
   "source": [
    "s = \"Python\"\n",
    "\n",
    "print(s[0:3:1])\n",
    "print(s[0:3:2])\n",
    "print(s[0:3])\n",
    "print(s[0:6])\n",
    "print(s[:6])\n",
    "print(s[:])\n",
    "print(s[-6:])\n",
    "\n",
    "print(\"----------\")\n",
    "# 反向切片\n",
    "s = \"123456789\"\n",
    "print(s[-1:-10:-1])\n",
    "print(s[-1:-10]) # 遍历的顺序问题，正向遍历但是数组是反向的\n",
    "print(s[-10:-1])\n",
    "print(s[::-1])"
   ]
  },
  {
   "cell_type": "markdown",
   "id": "07fbe53c",
   "metadata": {},
   "source": [
    "**字符串操作符**"
   ]
  },
  {
   "cell_type": "code",
   "execution_count": null,
   "id": "51d4555e",
   "metadata": {},
   "outputs": [
    {
     "name": "stdout",
     "output_type": "stream",
     "text": [
      "ABCdef\n",
      "------\n",
      "ABCdefABCdefABCdef\n"
     ]
    }
   ],
   "source": [
    "# 字符串拼接\n",
    "a = \"ABC\"\n",
    "b = \"def\"\n",
    "print(a+b)\n",
    "print(\"------\")\n",
    "\n",
    "# 字符串成倍复制\n",
    "c = a+b\n",
    "print(3*c)"
   ]
  },
  {
   "cell_type": "markdown",
   "id": "e10d2404",
   "metadata": {},
   "source": [
    "**字符串成员运算**  \n",
    "in：判断子集是否在全集之中，任何一个连续的切片都是原字符串的子集  \n",
    "    格式：子集字符串 in 原字符串"
   ]
  },
  {
   "cell_type": "code",
   "execution_count": 36,
   "id": "922b5cd8",
   "metadata": {},
   "outputs": [
    {
     "data": {
      "text/plain": [
       "True"
      ]
     },
     "execution_count": 36,
     "metadata": {},
     "output_type": "execute_result"
    }
   ],
   "source": [
    "folk_singers = \"Peter, Paul and Mary\"\n",
    "\"Peter\" in folk_singers"
   ]
  },
  {
   "cell_type": "markdown",
   "id": "e03d0e5d",
   "metadata": {},
   "source": [
    "for：遍历字符串字符  \n",
    "    格式：for 字符 in 字符串"
   ]
  },
  {
   "cell_type": "code",
   "execution_count": 37,
   "id": "27437b1c",
   "metadata": {},
   "outputs": [
    {
     "name": "stdout",
     "output_type": "stream",
     "text": [
      "P\n",
      "y\n",
      "t\n",
      "h\n",
      "o\n",
      "n\n"
     ]
    }
   ],
   "source": [
    "for s in \"Python\":\n",
    "    print(s)"
   ]
  },
  {
   "cell_type": "markdown",
   "id": "d3510541",
   "metadata": {},
   "source": [
    "**字符串处理函数**  \n",
    "- len() 字符串长度\n",
    "- ord() 字符串转化为计算机可识别二进制数Unicode码，每个字符对应一个互不重复的二进制数\n",
    "- chr() Unicode码转化为字符串"
   ]
  },
  {
   "cell_type": "code",
   "execution_count": 41,
   "id": "c77a37c2",
   "metadata": {},
   "outputs": [
    {
     "name": "stdout",
     "output_type": "stream",
     "text": [
      "6\n",
      "73\n",
      "97\n",
      "42\n",
      "20013\n",
      "22269\n",
      "ϲ\n",
      "✐\n",
      "〹\n",
      "宠\n"
     ]
    }
   ],
   "source": [
    "# 字符串长度\n",
    "s = \"Python\"\n",
    "print(len(s))\n",
    "\n",
    "# 字符串转化为Unicode码\n",
    "print(ord(\"I\"))\n",
    "print(ord(\"a\"))\n",
    "print(ord(\"*\"))\n",
    "print(ord(\"中\"))\n",
    "print(ord(\"国\"))\n",
    "\n",
    "# Unicode码转化为字符串\n",
    "print(chr(1010))\n",
    "print(chr(10000))\n",
    "print(chr(12345))\n",
    "print(chr(23456))"
   ]
  },
  {
   "cell_type": "markdown",
   "id": "808b2545",
   "metadata": {},
   "source": [
    "**字符串处理方法**  \n",
    "- 字符串分割    \n",
    " 格式：字符串.split(分割依据字符)  \n",
    " 返回一个列表  \n",
    " 原字符串不变"
   ]
  },
  {
   "cell_type": "code",
   "execution_count": 42,
   "id": "b1d39435",
   "metadata": {},
   "outputs": [
    {
     "name": "stdout",
     "output_type": "stream",
     "text": [
      "['Python', 'C', 'C++', 'Java', 'PHP', 'R']\n",
      "Python C C++ Java PHP R\n"
     ]
    }
   ],
   "source": [
    "languages = \"Python C C++ Java PHP R\"\n",
    "language_list = languages.split(\" \") # 按照\" \"（空格）进行分割\n",
    "print(language_list)\n",
    "print(languages)"
   ]
  },
  {
   "cell_type": "markdown",
   "id": "4dd35282",
   "metadata": {},
   "source": [
    "- 字符串聚合  \n",
    " 格式：“聚合字符”.join(可迭代数据类型)  \n",
    " 可迭代类型 如：字符串、列表  \n",
    " 序列类型的元素必须是字符类型 s = [1,2,3,4,5] 就不行"
   ]
  },
  {
   "cell_type": "code",
   "execution_count": 44,
   "id": "337c585e",
   "metadata": {},
   "outputs": [
    {
     "name": "stdout",
     "output_type": "stream",
     "text": [
      "1,2,3,4,5\n",
      "1*2*3*4*5\n"
     ]
    }
   ],
   "source": [
    "s = \"12345\"\n",
    "s_join = \",\".join(s)\n",
    "print(s_join)\n",
    "\n",
    "s = [\"1\",\"2\",\"3\",\"4\",\"5\"]\n",
    "s_join = \"*\".join(s) # 取出所有元素并在所有元素之间插入\"*\"\n",
    "print(s_join)"
   ]
  },
  {
   "cell_type": "markdown",
   "id": "29caefec",
   "metadata": {},
   "source": [
    "- 删除两端特定字符  \n",
    " 格式：字符串.strip(删除字符)  \n",
    " strip从两侧开始搜索，遇到指定字符执行删除，遇到非指定字符则停止搜索\n",
    " 左删除：lstrip，右删除：rstrip"
   ]
  },
  {
   "cell_type": "code",
   "execution_count": 45,
   "id": "27595165",
   "metadata": {},
   "outputs": [
    {
     "name": "stdout",
     "output_type": "stream",
     "text": [
      "I have many blanks\n",
      "I have many blanks        \n",
      "        I have many blanks\n"
     ]
    }
   ],
   "source": [
    "s = \"        I have many blanks        \"\n",
    "print(s.strip(\" \"))\n",
    "print(s.lstrip(\" \"))\n",
    "print(s.rstrip(\" \"))"
   ]
  },
  {
   "cell_type": "markdown",
   "id": "ef16b59d",
   "metadata": {},
   "source": [
    "- 字符串替换\n",
    " 格式：字符串.replace(\"被替换\"，\"替换成\")"
   ]
  },
  {
   "cell_type": "code",
   "execution_count": 46,
   "id": "c254dd98",
   "metadata": {},
   "outputs": [
    {
     "name": "stdout",
     "output_type": "stream",
     "text": [
      "Py is comming\n",
      "Python is comming\n"
     ]
    }
   ],
   "source": [
    "s = \"Python is comming\"\n",
    "s1 = s.replace(\"Python\",\"Py\")\n",
    "print(s1)\n",
    "print(s)"
   ]
  },
  {
   "cell_type": "markdown",
   "id": "c3dddb59",
   "metadata": {},
   "source": [
    "- 字符串统计\n",
    " 格式：字符串.count(\"待统计字符串\")"
   ]
  },
  {
   "cell_type": "code",
   "execution_count": 47,
   "id": "179cd678",
   "metadata": {},
   "outputs": [
    {
     "name": "stdout",
     "output_type": "stream",
     "text": [
      "2\n",
      "4\n"
     ]
    }
   ],
   "source": [
    "s = \"Python is an excellent language\"\n",
    "print(s.count(\"an\"))\n",
    "print(s.count(\"e\"))"
   ]
  },
  {
   "cell_type": "markdown",
   "id": "2b142c26",
   "metadata": {},
   "source": [
    "- 字符串的大小写"
   ]
  },
  {
   "cell_type": "code",
   "execution_count": 48,
   "id": "5c6f7f51",
   "metadata": {},
   "outputs": [
    {
     "name": "stdout",
     "output_type": "stream",
     "text": [
      "PYTHON IS AN EXCELLENT LANGUAGE\n",
      "python is an excellent language\n",
      "Python Is An Excellent Language\n"
     ]
    }
   ],
   "source": [
    "s = \"Python is an excellent language\"\n",
    "print(s.upper()) # 全部大写\n",
    "print(s.lower()) # 全部小写\n",
    "print(s.title()) # 首字母大写"
   ]
  },
  {
   "cell_type": "markdown",
   "id": "300f6b28",
   "metadata": {},
   "source": [
    "**逻辑型**  \n",
    "- 逻辑运算"
   ]
  },
  {
   "cell_type": "code",
   "execution_count": 50,
   "id": "0a6b9198",
   "metadata": {},
   "outputs": [
    {
     "name": "stdout",
     "output_type": "stream",
     "text": [
      "True\n",
      "False\n",
      "False\n",
      "True\n",
      "False\n"
     ]
    }
   ],
   "source": [
    "a = 10\n",
    "print(a > 8)\n",
    "print(a == 12)\n",
    "print(a < 5)\n",
    "\n",
    "# any() 只要1个True输出True\n",
    "# all() 所有都是True输出True\n",
    "print(any([False,1,0,None]))\n",
    "print(all([False,1,0,None]))"
   ]
  },
  {
   "cell_type": "markdown",
   "id": "8ebb929c",
   "metadata": {},
   "source": [
    "- 指示条件"
   ]
  },
  {
   "cell_type": "code",
   "execution_count": 51,
   "id": "e8e61c7d",
   "metadata": {},
   "outputs": [
    {
     "name": "stdout",
     "output_type": "stream",
     "text": [
      "Too Small\n",
      "Too Small\n",
      "Too Big\n",
      "Right\n"
     ]
    }
   ],
   "source": [
    "n = 2800\n",
    "while True:\n",
    "    m = eval(input(\"Please enter a number：\"))\n",
    "    if m == n:\n",
    "        print(\"Right\")\n",
    "        break\n",
    "    elif m > n:\n",
    "        print(\"Too Big\")\n",
    "    else:\n",
    "        print(\"Too Small\")"
   ]
  },
  {
   "cell_type": "markdown",
   "id": "d0d9ae4c",
   "metadata": {},
   "source": [
    "- 作为numpy的掩码"
   ]
  },
  {
   "cell_type": "code",
   "execution_count": null,
   "id": "402d258b",
   "metadata": {},
   "outputs": [
    {
     "name": "stdout",
     "output_type": "stream",
     "text": [
      "[[False False False  True  True]]\n"
     ]
    },
    {
     "data": {
      "text/plain": [
       "array([5, 7])"
      ]
     },
     "execution_count": 52,
     "metadata": {},
     "output_type": "execute_result"
    }
   ],
   "source": [
    "import numpy as np\n",
    "x = np.array([[1,3,2,5,7]])\n",
    "print(x > 3) # 逻辑判断掩码\n",
    "x[x > 3] # 根据逻辑判断掩码提取数据"
   ]
  },
  {
   "cell_type": "markdown",
   "id": "302fd41c",
   "metadata": {},
   "source": [
    "**数据类型判别和类型转换**\n",
    "- type()"
   ]
  },
  {
   "cell_type": "code",
   "execution_count": 53,
   "id": "795529eb",
   "metadata": {},
   "outputs": [
    {
     "name": "stdout",
     "output_type": "stream",
     "text": [
      "<class 'int'>\n",
      "<class 'str'>\n"
     ]
    }
   ],
   "source": [
    "age = 20\n",
    "name = \"Mike\"\n",
    "print(type(age))\n",
    "print(type(name))"
   ]
  },
  {
   "cell_type": "markdown",
   "id": "72fee274",
   "metadata": {},
   "source": [
    "-n isinstance(变量，预判类型) **承认继承**  \n",
    "-n 变量类型是预判类型的子类型则为真，否则为假"
   ]
  },
  {
   "cell_type": "code",
   "execution_count": null,
   "id": "69bb50e8",
   "metadata": {},
   "outputs": [
    {
     "name": "stdout",
     "output_type": "stream",
     "text": [
      "True\n",
      "True\n",
      "True\n"
     ]
    }
   ],
   "source": [
    "print(isinstance(age,int))\n",
    "print(isinstance(age,object))\n",
    "print(isinstance(name,object)) # object是所有类的基类"
   ]
  },
  {
   "cell_type": "markdown",
   "id": "d7e35044",
   "metadata": {},
   "source": [
    "-字符串检查办法  \n",
    " isdigit()  \n",
    " 格式：字符串.isdigit()  \n",
    " 字符是否只由数字组成"
   ]
  },
  {
   "cell_type": "code",
   "execution_count": 56,
   "id": "2ffa3700",
   "metadata": {},
   "outputs": [
    {
     "name": "stdout",
     "output_type": "stream",
     "text": [
      "True\n",
      "False\n"
     ]
    }
   ],
   "source": [
    "age = '20'\n",
    "name = 'Mike'\n",
    "print(age.isdigit())\n",
    "print(name.isdigit())"
   ]
  },
  {
   "cell_type": "markdown",
   "id": "e196a690",
   "metadata": {},
   "source": [
    " isalpha()  \n",
    " 格式：字符串.isalpha()  \n",
    " 字符是否只由字母组成  "
   ]
  },
  {
   "cell_type": "code",
   "execution_count": 57,
   "id": "81c80ea7",
   "metadata": {},
   "outputs": [
    {
     "name": "stdout",
     "output_type": "stream",
     "text": [
      "False\n",
      "True\n"
     ]
    }
   ],
   "source": [
    "print(age.isalpha())\n",
    "print(name.isalpha())"
   ]
  },
  {
   "cell_type": "markdown",
   "id": "94554cfc",
   "metadata": {},
   "source": [
    "isalnum()  \n",
    "格式：字符串.isalnum()  \n",
    "字符是否只有数字和字母组成  "
   ]
  },
  {
   "cell_type": "code",
   "execution_count": 59,
   "id": "6b1fa51d",
   "metadata": {},
   "outputs": [
    {
     "name": "stdout",
     "output_type": "stream",
     "text": [
      "True\n"
     ]
    }
   ],
   "source": [
    "print((age+name).isalnum())"
   ]
  },
  {
   "cell_type": "markdown",
   "id": "6d87ab99",
   "metadata": {},
   "source": [
    "- 类型转换  \n",
    "数字转字符串"
   ]
  },
  {
   "cell_type": "code",
   "execution_count": null,
   "id": "797d3c83",
   "metadata": {},
   "outputs": [
    {
     "name": "stdout",
     "output_type": "stream",
     "text": [
      "My age is20\n"
     ]
    }
   ],
   "source": [
    "age = 20\n",
    "print(\"My age is \"+str(age))"
   ]
  },
  {
   "cell_type": "markdown",
   "id": "6ca4ae30",
   "metadata": {},
   "source": [
    "数字转为字符串  \n",
    "int()整型  \n",
    "float()浮点  \n",
    "eval()保留原内容（自动调整浮点、整形）  "
   ]
  },
  {
   "cell_type": "code",
   "execution_count": 63,
   "id": "cfd0a570",
   "metadata": {},
   "outputs": [
    {
     "name": "stdout",
     "output_type": "stream",
     "text": [
      "20\n",
      "20.0\n",
      "10.1\n",
      "20\n",
      "10.1\n"
     ]
    }
   ],
   "source": [
    "s1 = \"20\"\n",
    "s2 = \"10.1\"\n",
    "print(int(s1))\n",
    "print(float(s1))\n",
    "print(float(s2))\n",
    "print(eval(s1))\n",
    "print(eval(s2))"
   ]
  }
 ],
 "metadata": {
  "kernelspec": {
   "display_name": "Learn",
   "language": "python",
   "name": "python3"
  },
  "language_info": {
   "codemirror_mode": {
    "name": "ipython",
    "version": 3
   },
   "file_extension": ".py",
   "mimetype": "text/x-python",
   "name": "python",
   "nbconvert_exporter": "python",
   "pygments_lexer": "ipython3",
   "version": "3.9.22"
  }
 },
 "nbformat": 4,
 "nbformat_minor": 5
}
