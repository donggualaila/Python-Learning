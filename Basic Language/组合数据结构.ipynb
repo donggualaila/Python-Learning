{
 "cells": [
  {
   "cell_type": "markdown",
   "id": "94309785",
   "metadata": {},
   "source": [
    "**列表**\n",
    "- 包容性 有序性（索引排列）"
   ]
  },
  {
   "cell_type": "code",
   "execution_count": null,
   "id": "7b55a93d",
   "metadata": {},
   "outputs": [
    {
     "name": "stdout",
     "output_type": "stream",
     "text": [
      "['人', '工', '智', '能']\n",
      "['我', '们', '很', '像']\n",
      "['TIM', 'JENNEY', '张三', '李四']\n",
      "0\n",
      "1\n",
      "2\n",
      "3\n",
      "4\n",
      "5\n"
     ]
    }
   ],
   "source": [
    "# list可通过该语句生成\n",
    "ls = [\"Python\", 1898, True, {\"version\":3.7}]\n",
    "\n",
    "# 也可通过list函数（可迭代对象）生成，包括：字符串、元组、集合、特殊的range()\n",
    "print(list(\"人工智能\")) # 字符串\n",
    "print(list((\"我\",\"们\",\"很\",\"像\"))) # 元组\n",
    "print(list({\"TIM\",\"JENNEY\",\"张三\",\"李四\"})) # 集合"
   ]
  },
  {
   "cell_type": "markdown",
   "id": "7ca5add0",
   "metadata": {},
   "source": [
    "- range()函数  \n",
    " 格式：range(起始数字，终止数字，数字间隔)  \n",
    " 不包含终止数字  \n",
    " 数字间隔默认为1\n",
    " 与数组切片类似，但是数组切片为冒号:，range函数为逗号，"
   ]
  },
  {
   "cell_type": "code",
   "execution_count": 6,
   "id": "57ff35e8",
   "metadata": {},
   "outputs": [
    {
     "name": "stdout",
     "output_type": "stream",
     "text": [
      "0\n",
      "1\n",
      "2\n",
      "3\n",
      "4\n",
      "5\n",
      "[1, 3, 5, 7, 9]\n"
     ]
    }
   ],
   "source": [
    "for i in range(6):\n",
    "    print(i)\n",
    "\n",
    "# range()转列表\n",
    "print(list(range(1,11,2)))"
   ]
  },
  {
   "cell_type": "markdown",
   "id": "b18b64fe",
   "metadata": {},
   "source": [
    "- 列表性质  \n",
    " 列表长度len()  格式：len(列表)  \n",
    " 列表索引--与同为序列类型的字符串相同  格式：变量名[位置编号]  \n",
    " 列表切片  格式：变量名[开始位置:结束位置:切片间隔]  \n",
    " "
   ]
  },
  {
   "cell_type": "code",
   "execution_count": 7,
   "id": "37f47098",
   "metadata": {},
   "outputs": [
    {
     "name": "stdout",
     "output_type": "stream",
     "text": [
      "4\n",
      "BMW\n",
      "['BMW', 'TOYOTA']\n",
      "['TOYOTA', 'AUDI']\n"
     ]
    }
   ],
   "source": [
    "cars =[\"BYD\",\"BMW\",\"AUDI\",\"TOYOTA\"]\n",
    "print(len(cars))\n",
    "print(cars[1])\n",
    "print(cars[1:4:2])\n",
    "print(cars[-1:-3:-1])"
   ]
  },
  {
   "cell_type": "markdown",
   "id": "de3e2ee1",
   "metadata": {},
   "source": [
    "- 列表操作符  \n",
    " 列表拼接 list1 + list2  \n",
    " 列表成倍复制 n*list\n",
    " "
   ]
  },
  {
   "cell_type": "code",
   "execution_count": 9,
   "id": "ac915185",
   "metadata": {},
   "outputs": [
    {
     "name": "stdout",
     "output_type": "stream",
     "text": [
      "[1, 2, 3, 4]\n",
      "[0, 0, 0, 0, 0, 0, 0, 0, 0, 0]\n"
     ]
    }
   ],
   "source": [
    "a = [1, 2]\n",
    "b = [3, 4]\n",
    "print(a + b) \n",
    "print([0]*10) # 一种初始化列表的方式"
   ]
  },
  {
   "cell_type": "markdown",
   "id": "75353ba6",
   "metadata": {},
   "source": [
    "- 列表操作方法  \n",
    " 1. 在末尾增加元素  \n",
    "    格式：列表.append(待增元素)"
   ]
  },
  {
   "cell_type": "code",
   "execution_count": 23,
   "id": "4d031608",
   "metadata": {},
   "outputs": [
    {
     "name": "stdout",
     "output_type": "stream",
     "text": [
      "['Python', 'Java', 'C', 'C++']\n"
     ]
    }
   ],
   "source": [
    "languages = [\"Python\",\"Java\",\"C\"]\n",
    "languages.append(\"C++\")\n",
    "print(languages)"
   ]
  },
  {
   "cell_type": "markdown",
   "id": "375354a1",
   "metadata": {},
   "source": [
    " 2. 在任意位置插入元素  \n",
    " 格式：列表.insert(位置编号，待增元素)"
   ]
  },
  {
   "cell_type": "code",
   "execution_count": 24,
   "id": "dab064a9",
   "metadata": {},
   "outputs": [
    {
     "name": "stdout",
     "output_type": "stream",
     "text": [
      "['Python', 'R', 'Java', 'C', 'C++']\n"
     ]
    }
   ],
   "source": [
    "languages.insert(1,\"R\")\n",
    "print(languages)"
   ]
  },
  {
   "cell_type": "markdown",
   "id": "1b7c1796",
   "metadata": {},
   "source": [
    "3. 在末尾整体并入另一列表  \n",
    "格式：列表1.extend(列表2)"
   ]
  },
  {
   "cell_type": "code",
   "execution_count": 25,
   "id": "ce4a1469",
   "metadata": {},
   "outputs": [
    {
     "name": "stdout",
     "output_type": "stream",
     "text": [
      "['Python', 'R', 'Java', 'C', 'C++', ['Ruby', 'PHP']]\n",
      "['Python', 'R', 'Java', 'C', 'C++', 'Ruby', 'PHP']\n"
     ]
    }
   ],
   "source": [
    "languages = ['Python', 'R', 'Java', 'C', 'C++']\n",
    "languages.append([\"Ruby\",\"PHP\"])\n",
    "print(languages) # append以列表形式添加到原列表\n",
    "languages = ['Python', 'R', 'Java', 'C', 'C++']\n",
    "languages.extend([\"Ruby\",\"PHP\"])\n",
    "print(languages)"
   ]
  },
  {
   "cell_type": "markdown",
   "id": "31ad3345",
   "metadata": {},
   "source": [
    "4. 删除列表i位的元素  \n",
    " 格式：列表.pop(位置)  \n",
    " 默认删除最后一位"
   ]
  },
  {
   "cell_type": "code",
   "execution_count": 26,
   "id": "e9242840",
   "metadata": {},
   "outputs": [
    {
     "name": "stdout",
     "output_type": "stream",
     "text": [
      "['Python', 'Java', 'C']\n"
     ]
    }
   ],
   "source": [
    "languages = ['Python', 'R', 'Java', 'C', 'C++']\n",
    "languages.pop(1)\n",
    "languages.pop()\n",
    "print(languages)"
   ]
  },
  {
   "cell_type": "markdown",
   "id": "597c6250",
   "metadata": {},
   "source": [
    "5. 删除列表第一次出现的待查元素  \n",
    " 格式：列表.remove(待删元素)"
   ]
  },
  {
   "cell_type": "code",
   "execution_count": 28,
   "id": "5bad8804",
   "metadata": {},
   "outputs": [
    {
     "name": "stdout",
     "output_type": "stream",
     "text": [
      "['Python', 'R', 'Java', 'C++', 'C']\n",
      "['Python', 'R', 'Java', 'C++']\n"
     ]
    }
   ],
   "source": [
    "languages = ['Python', 'R', 'Java', 'C', 'C++','C']\n",
    "languages.remove(\"C\")\n",
    "print(languages)\n",
    "\n",
    "languages = ['Python', 'R', 'Java', 'C', 'C++','C']\n",
    "# 假如要删除所有C\n",
    "while \"C\" in languages:\n",
    "    languages.remove(\"C\")\n",
    "print(languages)"
   ]
  },
  {
   "cell_type": "markdown",
   "id": "0b8d2c4f",
   "metadata": {},
   "source": [
    "6. 查找列表中第一次出现待查元素的位置  \n",
    " 格式：列表.index(待查元素)"
   ]
  },
  {
   "cell_type": "code",
   "execution_count": 29,
   "id": "540b2ce5",
   "metadata": {},
   "outputs": [
    {
     "name": "stdout",
     "output_type": "stream",
     "text": [
      "1\n"
     ]
    }
   ],
   "source": [
    "languages = ['Python', 'R', 'Java', 'C', 'C++']\n",
    "idx = languages.index('R')\n",
    "print(idx)"
   ]
  },
  {
   "cell_type": "markdown",
   "id": "627f7545",
   "metadata": {},
   "source": [
    "7. 修改元素  \n",
    " 通过“先索引后赋值”的方式，对元素进行修改  \n",
    " 格式：列表名[位置]=新值"
   ]
  },
  {
   "cell_type": "code",
   "execution_count": 30,
   "id": "d6f98d9b",
   "metadata": {},
   "outputs": [
    {
     "name": "stdout",
     "output_type": "stream",
     "text": [
      "['Python', 'GoLang', 'Java', 'C', 'C++']\n"
     ]
    }
   ],
   "source": [
    "languages = ['Python', 'R', 'Java', 'C', 'C++']\n",
    "languages[1] = \"GoLang\"\n",
    "print(languages)"
   ]
  },
  {
   "cell_type": "markdown",
   "id": "f2c17629",
   "metadata": {},
   "source": [
    "8. 列表的复制  \n",
    " 错误的方式--直接进行赋值"
   ]
  },
  {
   "cell_type": "code",
   "execution_count": null,
   "id": "b90d7d0c",
   "metadata": {},
   "outputs": [
    {
     "name": "stdout",
     "output_type": "stream",
     "text": [
      "['Python', 'R', 'Java', 'C']\n",
      "['Python', 'R', 'Java', 'C']\n"
     ]
    }
   ],
   "source": [
    "# xxxxxxxxxxxx错误的复制方式xxxxxxxxxxxx\n",
    "languages = ['Python', 'R', 'Java', 'C', 'C++']\n",
    "languages_2 = languages\n",
    "languages_2.pop()\n",
    "print(languages_2)\n",
    "print(languages)\n",
    "# 相当于只是同一个列表的两个名字，二者关联，做出的改变同步"
   ]
  },
  {
   "cell_type": "code",
   "execution_count": 33,
   "id": "609e0d77",
   "metadata": {},
   "outputs": [
    {
     "name": "stdout",
     "output_type": "stream",
     "text": [
      "['Python', 'R', 'Java', 'C']\n",
      "['Python', 'R', 'Java', 'C', 'C++']\n",
      "['Python', 'R', 'Java', 'C']\n",
      "['Python', 'R', 'Java', 'C', 'C++']\n"
     ]
    }
   ],
   "source": [
    "# 正确的赋值方式--浅拷贝\n",
    "# 方法1：列表.copy()\n",
    "languages = ['Python', 'R', 'Java', 'C', 'C++']\n",
    "languages_2 = languages.copy()\n",
    "languages_2.pop()\n",
    "print(languages_2)\n",
    "print(languages)\n",
    "\n",
    "# 方法2： 列表[:]\n",
    "languages = ['Python', 'R', 'Java', 'C', 'C++']\n",
    "languages_2 = [None]\n",
    "languages_2 = languages[:]\n",
    "languages_2.pop()\n",
    "print(languages_2)\n",
    "print(languages)"
   ]
  },
  {
   "cell_type": "markdown",
   "id": "f67d94bd",
   "metadata": {},
   "source": [
    "9. 列表排序  \n",
    " 格式：列表.sort()  \n",
    " 列表的永久排序  \n",
    " 直接在列表上操作，无返回值"
   ]
  },
  {
   "cell_type": "code",
   "execution_count": 35,
   "id": "26b1215d",
   "metadata": {},
   "outputs": [
    {
     "name": "stdout",
     "output_type": "stream",
     "text": [
      "[0, 1, 2, 2, 3, 5, 7, 8, 9, 19]\n",
      "[19, 9, 8, 7, 5, 3, 2, 2, 1, 0]\n"
     ]
    }
   ],
   "source": [
    "# 默认为递增排序\n",
    "ls = [2,5,2,8,19,3,7,0,1,9]\n",
    "ls.sort()\n",
    "print(ls)\n",
    "\n",
    "# 递减排序\n",
    "ls.sort(reverse=True)\n",
    "print(ls)"
   ]
  },
  {
   "cell_type": "markdown",
   "id": "4a498ebb",
   "metadata": {},
   "source": [
    " 临时排序  \n",
    " 格式：sorted(列表)  \n",
    " 原列表保持不变，返回排序后的列表"
   ]
  },
  {
   "cell_type": "code",
   "execution_count": 38,
   "id": "758c1762",
   "metadata": {},
   "outputs": [
    {
     "name": "stdout",
     "output_type": "stream",
     "text": [
      "[2, 5, 2, 8, 19, 3, 7, 0, 1, 9]\n",
      "[0, 1, 2, 2, 3, 5, 7, 8, 9, 19]\n",
      "[19, 9, 8, 7, 5, 3, 2, 2, 1, 0]\n"
     ]
    }
   ],
   "source": [
    "ls = [2,5,2,8,19,3,7,0,1,9]\n",
    "ls_2 = sorted(ls)\n",
    "print(ls)\n",
    "print(ls_2)\n",
    "\n",
    "ls_3 = sorted(ls, reverse = True)\n",
    "print(ls_3)"
   ]
  },
  {
   "cell_type": "markdown",
   "id": "3ddf76ee",
   "metadata": {},
   "source": [
    "10. 列表反转  \n",
    "  格式：列表.reverse()  \n",
    "  列表永久反转  \n",
    "  直接在列表上操作，无返回值  \n",
    "  格式：列表[::-1]  \n",
    "  原列表不变"
   ]
  },
  {
   "cell_type": "code",
   "execution_count": 40,
   "id": "f6613564",
   "metadata": {},
   "outputs": [
    {
     "name": "stdout",
     "output_type": "stream",
     "text": [
      "[5, 4, 3, 2, 1]\n",
      "[1, 2, 3, 4, 5]\n",
      "[5, 4, 3, 2, 1]\n"
     ]
    }
   ],
   "source": [
    "ls = [1,2,3,4,5]\n",
    "print(ls[::-1])\n",
    "print(ls)\n",
    "ls.reverse()\n",
    "print(ls)"
   ]
  },
  {
   "cell_type": "markdown",
   "id": "b17cd3c5",
   "metadata": {},
   "source": [
    "11. 列表遍历 for 循环"
   ]
  },
  {
   "cell_type": "code",
   "execution_count": null,
   "id": "52bda6c7",
   "metadata": {},
   "outputs": [
    {
     "name": "stdout",
     "output_type": "stream",
     "text": [
      "5\n",
      "4\n",
      "3\n",
      "2\n",
      "1\n"
     ]
    }
   ],
   "source": [
    "ls = [1,2,3,4,5]\n",
    "for i in ls:\n",
    "    print(i)"
   ]
  },
  {
   "cell_type": "markdown",
   "id": "bf66b497",
   "metadata": {},
   "source": [
    "**元组**  \n",
    "元组可视作不可变的列表，使用“（）”表示  \n",
    "不支持增删改操作  \n",
    "其他与列表完全一致"
   ]
  },
  {
   "cell_type": "code",
   "execution_count": 42,
   "id": "f1f6bca8",
   "metadata": {},
   "outputs": [],
   "source": [
    "name = (\"Peter\", \"Paul\", \"Polo\")"
   ]
  },
  {
   "cell_type": "markdown",
   "id": "145fc205",
   "metadata": {},
   "source": [
    "元组的常见的用处  \n",
    "- 打包与解包"
   ]
  },
  {
   "cell_type": "code",
   "execution_count": 45,
   "id": "57c04299",
   "metadata": {},
   "outputs": [
    {
     "name": "stdout",
     "output_type": "stream",
     "text": [
      "(9, 27)\n",
      "<class 'tuple'>\n",
      "9\n",
      "27\n"
     ]
    }
   ],
   "source": [
    "# 例子1\n",
    "# 自动把两个数变为元组并返回\n",
    "def f1(x):\n",
    "    return x**2, x**3 # 打包返回\n",
    "print(f1(3))\n",
    "print(type(f1(3)))\n",
    "\n",
    "# 解包赋值\n",
    "a, b = f1(3)\n",
    "print(a)\n",
    "print(b)"
   ]
  },
  {
   "cell_type": "code",
   "execution_count": 47,
   "id": "804ef565",
   "metadata": {},
   "outputs": [
    {
     "name": "stdout",
     "output_type": "stream",
     "text": [
      "[(202501, 'Mike'), (202502, 'Jack'), (202503, 'Mary')]\n",
      "202501 Mike\n",
      "202502 Jack\n",
      "202503 Mary\n"
     ]
    }
   ],
   "source": [
    "# 例子2\n",
    "number = [202501,202502,202503]\n",
    "name = [\"Mike\",\"Jack\",\"Mary\"]\n",
    "print(list(zip(number,name))) # 一一对应进行打包\n",
    "\n",
    "for number,name in zip(number,name): # 一一对应进行解包\n",
    "    print(number,name)"
   ]
  },
  {
   "cell_type": "markdown",
   "id": "c59de12b",
   "metadata": {},
   "source": [
    "**字典**  \n",
    "映射类型：通过“键-值”对应的映射来实现数据存储和查找  \n",
    "常规字典是无序的"
   ]
  },
  {
   "cell_type": "code",
   "execution_count": 48,
   "id": "37b8d6b5",
   "metadata": {},
   "outputs": [
    {
     "name": "stdout",
     "output_type": "stream",
     "text": [
      "{201901: 'Jack', 201902: 'Tom', 201903: 'Mary'}\n"
     ]
    }
   ],
   "source": [
    "# 可以把键视作值的位置信息，通过键来查找值\n",
    "students = {201901:'Jack', 201902:'Tom',201903:'Mary'}\n",
    "print(students)"
   ]
  },
  {
   "cell_type": "markdown",
   "id": "7ff16e4a",
   "metadata": {},
   "source": [
    "字典的要求\n",
    "- 字典的键不可以重复"
   ]
  },
  {
   "cell_type": "code",
   "execution_count": 49,
   "id": "4c8a29d8",
   "metadata": {},
   "outputs": [
    {
     "name": "stdout",
     "output_type": "stream",
     "text": [
      "{201901: 'Tom', 201903: 'Mary'}\n"
     ]
    }
   ],
   "source": [
    "students = {201901:'Jack', 201901:'Tom',201903:'Mary'}\n",
    "print(students)\n",
    "# 前面的键被覆盖"
   ]
  },
  {
   "cell_type": "markdown",
   "id": "bb82f980",
   "metadata": {},
   "source": [
    "- 字典的键是不可变类型，如果键可变，就找不到对应储存的值  \n",
    "不可变类型：数字，字符串，元组  \n",
    "可变类型：列表、字典、集合"
   ]
  },
  {
   "cell_type": "code",
   "execution_count": 51,
   "id": "05f07f10",
   "metadata": {},
   "outputs": [],
   "source": [
    "d1 = {1:3}\n",
    "d2 = {\"d\":5}\n",
    "d3 = {(1,2,3):8}"
   ]
  },
  {
   "cell_type": "markdown",
   "id": "df7e7c91",
   "metadata": {},
   "source": [
    "字典的要求  \n",
    "- 字典的长度--键值对的个数"
   ]
  },
  {
   "cell_type": "code",
   "execution_count": 52,
   "id": "87e859e9",
   "metadata": {},
   "outputs": [
    {
     "name": "stdout",
     "output_type": "stream",
     "text": [
      "3\n"
     ]
    }
   ],
   "source": [
    "students = {201901:'Jack', 201902:'Tom',201903:'Mary'}\n",
    "print(len(students))"
   ]
  },
  {
   "cell_type": "markdown",
   "id": "31e054c7",
   "metadata": {},
   "source": [
    "- 字典的索引  \n",
    "格式：字典[键]  \n",
    "通过这种形式来获取对应的值"
   ]
  },
  {
   "cell_type": "code",
   "execution_count": 53,
   "id": "418b98e0",
   "metadata": {},
   "outputs": [
    {
     "name": "stdout",
     "output_type": "stream",
     "text": [
      "Mary\n"
     ]
    }
   ],
   "source": [
    "students = {201901:'Jack', 201902:'Tom',201903:'Mary'}\n",
    "print(students[201903])"
   ]
  },
  {
   "cell_type": "markdown",
   "id": "a83a4b04",
   "metadata": {},
   "source": [
    "- 字典的操作方法  \n",
    " 1. 增加键值对"
   ]
  },
  {
   "cell_type": "code",
   "execution_count": 54,
   "id": "b5e36998",
   "metadata": {},
   "outputs": [
    {
     "name": "stdout",
     "output_type": "stream",
     "text": [
      "{201901: 'Jack', 201902: 'Tom', 201903: 'Mary', 201904: 'Mike'}\n"
     ]
    }
   ],
   "source": [
    "students = {201901:'Jack', 201902:'Tom',201903:'Mary'}\n",
    "students[201904] = 'Mike'\n",
    "print(students)"
   ]
  },
  {
   "cell_type": "markdown",
   "id": "529a6bdd",
   "metadata": {},
   "source": [
    " 2. 删除键值对"
   ]
  },
  {
   "cell_type": "code",
   "execution_count": null,
   "id": "31b76568",
   "metadata": {},
   "outputs": [
    {
     "name": "stdout",
     "output_type": "stream",
     "text": [
      "{201901: 'Jack', 201902: 'Tom'}\n",
      "Mary\n",
      "{201901: 'Jack', 201902: 'Tom'}\n",
      "201903 Mary\n",
      "{201901: 'Jack', 201902: 'Tom'}\n"
     ]
    }
   ],
   "source": [
    "# 通过     del 变量名[待删除键]\n",
    "students = {201901:'Jack', 201902:'Tom',201903:'Mary'}\n",
    "del students[201903]\n",
    "print(students)\n",
    "\n",
    "# 通过     变量名.pop(待删除键)\n",
    "students = {201901:'Jack', 201902:'Tom',201903:'Mary'}\n",
    "value = students.pop(201903)\n",
    "print(value)\n",
    "print(students)\n",
    "\n",
    "# 通过     变量名.popitem()随机删除一个键值对，并以元组返回删除的键值对\n",
    "students = {201901:'Jack', 201902:'Tom',201903:'Mary'}\n",
    "key, value = students.popitem()\n",
    "print(key, value)\n",
    "print(students)"
   ]
  },
  {
   "cell_type": "markdown",
   "id": "16c6eec0",
   "metadata": {},
   "source": [
    "3. 修改值  \n",
    " 通过先索引后赋值的方式进行对应值的修改"
   ]
  },
  {
   "cell_type": "code",
   "execution_count": 65,
   "id": "79ef85ba",
   "metadata": {},
   "outputs": [
    {
     "name": "stdout",
     "output_type": "stream",
     "text": [
      "{201901: 'Polo', 201902: 'Tom', 201903: 'Mary'}\n"
     ]
    }
   ],
   "source": [
    "students = {201901:'Jack', 201902:'Tom',201903:'Mary'}\n",
    "students[201901] = 'Polo'\n",
    "print(students)"
   ]
  },
  {
   "cell_type": "markdown",
   "id": "908cf4e5",
   "metadata": {},
   "source": [
    "4. d.get()方法  \n",
    "格式：d.get(key, default)  \n",
    "从字典d中获取键key对应的值，如果没有这个键，则返回default  \n",
    "与直接查找获取不同的是，找不到键不会出现keyerror\n",
    "- 例子：统计“牛奶奶找刘奶奶买牛奶”中字符的出现频率"
   ]
  },
  {
   "cell_type": "code",
   "execution_count": 67,
   "id": "8647bc61",
   "metadata": {},
   "outputs": [
    {
     "name": "stdout",
     "output_type": "stream",
     "text": [
      "{'牛': 2, '奶': 5, '找': 1, '刘': 1, '买': 1}\n"
     ]
    }
   ],
   "source": [
    "s = \"牛奶奶找刘奶奶买牛奶\"\n",
    "d = {}\n",
    "for i in s:\n",
    "    d[i] = d.get(i,0)+1\n",
    "print(d)"
   ]
  },
  {
   "cell_type": "markdown",
   "id": "6da03b1f",
   "metadata": {},
   "source": [
    "5. d.keys()方法和d.values()方法  \n",
    " d.keys()遍历每一个键  \n",
    " d.values()遍历每一个值"
   ]
  },
  {
   "cell_type": "code",
   "execution_count": 71,
   "id": "e4f5844e",
   "metadata": {},
   "outputs": [
    {
     "name": "stdout",
     "output_type": "stream",
     "text": [
      "[201901, 201902, 201903]\n",
      "['Jack', 'Tom', 'Mary']\n"
     ]
    }
   ],
   "source": [
    "students = {201901:'Jack', 201902:'Tom',201903:'Mary'}\n",
    "print(list(students.keys()))\n",
    "print(list(students.values()))"
   ]
  },
  {
   "cell_type": "markdown",
   "id": "87b22183",
   "metadata": {},
   "source": [
    "6. d.items()方法及字典的遍历  \n",
    " 以元组形式输出"
   ]
  },
  {
   "cell_type": "code",
   "execution_count": 73,
   "id": "4f80aeed",
   "metadata": {},
   "outputs": [
    {
     "name": "stdout",
     "output_type": "stream",
     "text": [
      "[(201901, 'Jack'), (201902, 'Tom'), (201903, 'Mary')]\n",
      "201901 Jack\n",
      "201902 Tom\n",
      "201903 Mary\n"
     ]
    }
   ],
   "source": [
    "print(list(students.items()))\n",
    "for key, value in students.items():\n",
    "    print(key,value)"
   ]
  },
  {
   "cell_type": "markdown",
   "id": "f31141f1",
   "metadata": {},
   "source": [
    "**集合**  \n",
    "- 集合的表达  \n",
    " 集合是一系列互不相等元素的无序集合  \n",
    " 元素必须是不可变类型：数字，字符串，字典或元组  \n",
    " 可以看作是没有值，或者值为None的字典"
   ]
  },
  {
   "cell_type": "code",
   "execution_count": null,
   "id": "bd523107",
   "metadata": {},
   "outputs": [
    {
     "name": "stdout",
     "output_type": "stream",
     "text": [
      "{'Mary', 'Polo', 'Tom', 'Jack'}\n"
     ]
    }
   ],
   "source": [
    "students = {'Jack','Tom','Mary','Polo','Tom'}\n",
    "print(students) # 无序且不重复"
   ]
  },
  {
   "cell_type": "markdown",
   "id": "38713c3f",
   "metadata": {},
   "source": [
    "- 集合的运算  \n",
    " 小例子： 通过集合进行交集和并集运算"
   ]
  },
  {
   "cell_type": "code",
   "execution_count": 80,
   "id": "da0db386",
   "metadata": {},
   "outputs": [
    {
     "name": "stdout",
     "output_type": "stream",
     "text": [
      "{'Nina', 'Ivy', 'Charlie', 'Liam', 'Eve'}\n",
      "{'Mia', 'Frank', 'Nina', 'Ivy', 'Alice', 'Jack', 'Charlie', 'Liam', 'Grace', 'Hank', 'Eve', 'Bob', 'David'}\n",
      "{'Mia', 'Frank', 'Alice', 'Jack', 'Grace', 'Hank', 'Bob', 'David'}\n",
      "{'David', 'Hank', 'Alice', 'Jack'}\n"
     ]
    }
   ],
   "source": [
    "Chinese_A = {\"Alice\", \"Charlie\", \"David\", \"Eve\", \"Hank\",\"Ivy\", \"Jack\", \"Liam\", \"Nina\"}\n",
    "Math_A = {\"Bob\", \"Charlie\", \"Eve\", \"Frank\", \"Grace\",\"Ivy\", \"Liam\", \"Mia\", \"Nina\"}\n",
    "\n",
    "print(Chinese_A & Math_A) # 并集\n",
    "print(Chinese_A | Math_A) # 交集\n",
    "print(Chinese_A ^ Math_A) # 非共同元素\n",
    "print(Chinese_A - Math_A) # 在Chinese中但不在Math中"
   ]
  },
  {
   "cell_type": "markdown",
   "id": "9d6648fb",
   "metadata": {},
   "source": [
    "- 集合的操作方法  \n",
    " 1. 增加元素  \n",
    "  格式：S.add(x)"
   ]
  },
  {
   "cell_type": "code",
   "execution_count": 79,
   "id": "ca2bd794",
   "metadata": {},
   "outputs": [
    {
     "name": "stdout",
     "output_type": "stream",
     "text": [
      "{'Alice', 'Charlie', 'Eve', 'Bob', 'David'}\n"
     ]
    }
   ],
   "source": [
    "A = {\"Alice\", \"Charlie\", \"David\", \"Eve\"}\n",
    "A.add(\"Bob\")\n",
    "print(A)"
   ]
  },
  {
   "cell_type": "markdown",
   "id": "79629565",
   "metadata": {},
   "source": [
    "2. 移除元素  \n",
    " 格式：S.remove(x)"
   ]
  },
  {
   "cell_type": "code",
   "execution_count": 81,
   "id": "81e69bda",
   "metadata": {},
   "outputs": [
    {
     "name": "stdout",
     "output_type": "stream",
     "text": [
      "{'Charlie', 'Eve', 'David'}\n"
     ]
    }
   ],
   "source": [
    "A = {\"Alice\", \"Charlie\", \"David\", \"Eve\"}\n",
    "A.remove(\"Alice\")\n",
    "print(A)"
   ]
  },
  {
   "cell_type": "markdown",
   "id": "55f17be2",
   "metadata": {},
   "source": [
    "3. 集合的长度  \n",
    "格式：len(S)"
   ]
  },
  {
   "cell_type": "code",
   "execution_count": 82,
   "id": "5e44d5f0",
   "metadata": {},
   "outputs": [
    {
     "name": "stdout",
     "output_type": "stream",
     "text": [
      "4\n"
     ]
    }
   ],
   "source": [
    "A = {\"Alice\", \"Charlie\", \"David\", \"Eve\"}\n",
    "print(len(A))"
   ]
  },
  {
   "cell_type": "markdown",
   "id": "723c1275",
   "metadata": {},
   "source": [
    "4. 集合的遍历  \n",
    " 借助for循环"
   ]
  },
  {
   "cell_type": "code",
   "execution_count": 83,
   "id": "c592849a",
   "metadata": {},
   "outputs": [
    {
     "name": "stdout",
     "output_type": "stream",
     "text": [
      "Charlie\n",
      "Eve\n",
      "Alice\n",
      "David\n"
     ]
    }
   ],
   "source": [
    "for people in A:\n",
    "    print(people)"
   ]
  }
 ],
 "metadata": {
  "kernelspec": {
   "display_name": "Learn",
   "language": "python",
   "name": "python3"
  },
  "language_info": {
   "codemirror_mode": {
    "name": "ipython",
    "version": 3
   },
   "file_extension": ".py",
   "mimetype": "text/x-python",
   "name": "python",
   "nbconvert_exporter": "python",
   "pygments_lexer": "ipython3",
   "version": "3.9.22"
  }
 },
 "nbformat": 4,
 "nbformat_minor": 5
}
